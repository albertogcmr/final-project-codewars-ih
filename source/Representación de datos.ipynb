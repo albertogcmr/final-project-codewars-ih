{
 "cells": [
  {
   "cell_type": "markdown",
   "metadata": {},
   "source": [
    "## Representación de Datos"
   ]
  },
  {
   "cell_type": "code",
   "execution_count": 1,
   "metadata": {},
   "outputs": [],
   "source": [
    "# library\n",
    "import numpy as np\n",
    "import matplotlib.pyplot as plt\n",
    "import matplotlib as mpl\n",
    "import seaborn as sns\n",
    "import pandas as pd\n",
    "import json\n",
    "\n",
    " \n",
    "from funciones_scraping import get_languages\n"
   ]
  },
  {
   "cell_type": "markdown",
   "metadata": {},
   "source": [
    "### Coste en tiempo de cada iteración"
   ]
  },
  {
   "cell_type": "code",
   "execution_count": 2,
   "metadata": {},
   "outputs": [
    {
     "data": {
      "image/png": "[encoded data removed]",
      "text/plain": [
       "<Figure size 432x288 with 1 Axes>"
      ]
     },
     "metadata": {
      "needs_background": "light"
     },
     "output_type": "display_data"
    }
   ],
   "source": [
    "# https://www.canva.com/learn/100-color-combinations/\n",
    "# https://matplotlib.org/users/colors.html\n",
    "mpl.rcParams['axes.prop_cycle']\n",
    "\n",
    "x = [0, 500, 3939, 11520]\n",
    "y = [[0, 3847,  7642800, 11027477], # get social\n",
    "     [0, 1494739, 9796075, 28818747]] # create rows\n",
    " \n",
    "# Plot\n",
    "plt.stackplot(x,y, labels=['Get Social','Create Rows'], colors=['#336b87', '#90afc5'])\n",
    "plt.legend(loc='upper left')\n",
    "plt.grid(False)\n",
    "plt.show()"
   ]
  },
  {
   "cell_type": "markdown",
   "metadata": {},
   "source": [
    "### D3"
   ]
  },
  {
   "cell_type": "code",
   "execution_count": 3,
   "metadata": {},
   "outputs": [],
   "source": [
    "# languages = [lang for lang in get_languages() if lang in df.columns]\n",
    "# languages"
   ]
  },
  {
   "cell_type": "code",
   "execution_count": 4,
   "metadata": {},
   "outputs": [],
   "source": [
    "# {\"name\": \"php\", \"size\": 2},\n",
    "def create_d3(data): \n",
    "    df = data\n",
    "    idiomas = []\n",
    "    languages = [lang for lang in get_languages() if lang in df.columns]\n",
    "    for col in languages: \n",
    "        idiomas.append({'name': col, \"size\": int(df[col].sum())})\n",
    "    res = {\"name\": \"Lenguajes\",\"children\": [{\"name\": \"Lenguajes\",\"children\": [{\"name\": \"Lenguajes\",\"children\": idiomas}]}]}\n",
    "    \n",
    "    return json.dumps(res, ensure_ascii=False)\n",
    "\n",
    "def save_d3_languages_json(lang_json, filename='../representacion_d3/lenguajes.json'): \n",
    "    with open(filename, 'w') as f: \n",
    "        f.write(lang_json)"
   ]
  },
  {
   "cell_type": "code",
   "execution_count": 7,
   "metadata": {},
   "outputs": [],
   "source": [
    "df = pd.read_csv('../output/df-limpio-iter3.csv', index_col=0)\n",
    "save_d3_languages_json(create_d3(df))"
   ]
  },
  {
   "cell_type": "code",
   "execution_count": 6,
   "metadata": {},
   "outputs": [],
   "source": [
    "# file:///home/alberto/Escritorio/IH/proyecto-final-IH/representacion_d3/treemap.html"
   ]
  },
  {
   "cell_type": "markdown",
   "metadata": {},
   "source": [
    "### Grafo de aliados"
   ]
  },
  {
   "cell_type": "code",
   "execution_count": null,
   "metadata": {},
   "outputs": [],
   "source": []
  }
 ],
 "metadata": {
  "kernelspec": {
   "display_name": "Python 3",
   "language": "python",
   "name": "python3"
  },
  "language_info": {
   "codemirror_mode": {
    "name": "ipython",
    "version": 3
   },
   "file_extension": ".py",
   "mimetype": "text/x-python",
   "name": "python",
   "nbconvert_exporter": "python",
   "pygments_lexer": "ipython3",
   "version": "3.6.7"
  }
 },
 "nbformat": 4,
 "nbformat_minor": 2
}
