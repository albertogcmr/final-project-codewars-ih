{
 "cells": [
  {
   "cell_type": "markdown",
   "metadata": {},
   "source": [
    "## Representación de Datos"
   ]
  },
  {
   "cell_type": "code",
   "execution_count": 15,
   "metadata": {},
   "outputs": [],
   "source": [
    "# library\n",
    "import numpy as np\n",
    "import matplotlib.pyplot as plt\n",
    "import matplotlib as mpl\n",
    "import seaborn as sns\n",
    "import pandas as pd\n",
    "import json\n",
    "\n",
    " \n",
    "from funciones_scraping import get_languages\n"
   ]
  },
  {
   "cell_type": "markdown",
   "metadata": {},
   "source": [
    "### Coste en tiempo de cada iteración"
   ]
  },
  {
   "cell_type": "code",
   "execution_count": 28,
   "metadata": {},
   "outputs": [
    {
     "data": {
      "image/png": "[encoded data removed]",
      "text/plain": [
       "<Figure size 720x720 with 1 Axes>"
      ]
     },
     "metadata": {
      "needs_background": "light"
     },
     "output_type": "display_data"
    }
   ],
   "source": [
    "# https://www.canva.com/learn/100-color-combinations/\n",
    "# https://material.io/design/color/the-color-system.html#tools-for-picking-colors\n",
    "# https://matplotlib.org/users/colors.html\n",
    "\n",
    "mpl.rcParams['axes.prop_cycle']\n",
    "\n",
    "x = [0, 500, 3939, 11520]\n",
    "y = [[0, 3847,  7642800, 11027477], # get social\n",
    "     [0, 1494739, 9796075, 28818747]] # create rows\n",
    " \n",
    "# Plot\n",
    "fig, ax = plt.subplots(figsize=(10,10))\n",
    "plt.stackplot(x,y, labels=['Get Social','Create Rows'], colors=['#336b87', '#90afc5'])\n",
    "plt.legend(loc='upper left')\n",
    "plt.grid(False)\n",
    "plt.savefig('../output/Coste-tiempo-iteracion.png')\n",
    "plt.show()\n"
   ]
  },
  {
   "cell_type": "markdown",
   "metadata": {},
   "source": [
    "### D3"
   ]
  },
  {
   "cell_type": "code",
   "execution_count": 3,
   "metadata": {},
   "outputs": [],
   "source": [
    "# languages = [lang for lang in get_languages() if lang in df.columns]\n",
    "# languages"
   ]
  },
  {
   "cell_type": "code",
   "execution_count": 4,
   "metadata": {},
   "outputs": [],
   "source": [
    "# {\"name\": \"php\", \"size\": 2},\n",
    "def create_d3(data): \n",
    "    df = data\n",
    "    idiomas = []\n",
    "    languages = [lang for lang in get_languages() if lang in df.columns]\n",
    "    for col in languages: \n",
    "        idiomas.append({'name': col, \"size\": int(df[col].sum())})\n",
    "    res = {\"name\": \"Lenguajes\",\"children\": [{\"name\": \"Lenguajes\",\"children\": [{\"name\": \"Lenguajes\",\"children\": idiomas}]}]}\n",
    "    \n",
    "    return json.dumps(res, ensure_ascii=False)\n",
    "\n",
    "def save_d3_languages_json(lang_json, filename='../representacion_d3/lenguajes.json'): \n",
    "    with open(filename, 'w') as f: \n",
    "        f.write(lang_json)"
   ]
  },
  {
   "cell_type": "code",
   "execution_count": 7,
   "metadata": {},
   "outputs": [],
   "source": [
    "df = pd.read_csv('../output/df-limpio-iter3.csv', index_col=0)\n",
    "save_d3_languages_json(create_d3(df))"
   ]
  },
  {
   "cell_type": "code",
   "execution_count": 6,
   "metadata": {},
   "outputs": [],
   "source": [
    "# file:///home/alberto/Escritorio/IH/proyecto-final-IH/representacion_d3/treemap.html"
   ]
  },
  {
   "cell_type": "markdown",
   "metadata": {},
   "source": [
    "### Grafo de aliados"
   ]
  },
  {
   "cell_type": "code",
   "execution_count": null,
   "metadata": {},
   "outputs": [],
   "source": [
    "import networkx as nx\n",
    "import matplotlib.pyplot as plt\n",
    "import numpy as np\n",
    "import seaborn as sns\n",
    "\n",
    "import requests\n",
    "import json\n",
    "from bs4 import BeautifulSoup\n",
    "from IPython.display import display\n",
    "\n",
    "def get_social(user): \n",
    "    res = set()\n",
    "    for link in ['following', 'followers', 'allies']: \n",
    "        url = 'https://www.codewars.com/users/{}/{}'.format(user, link)\n",
    "        html = requests.get(url).content\n",
    "\n",
    "        soup = BeautifulSoup(html, \"lxml\")\n",
    "        res = res.union({e.text for e in soup.select('table a')})\n",
    "    return res"
   ]
  },
  {
   "cell_type": "code",
   "execution_count": 35,
   "metadata": {},
   "outputs": [],
   "source": [
    "def create_rows_graph(list_users): \n",
    "    res = set()\n",
    "    for user in list_users: \n",
    "        res = res.union()\n",
    "    return res"
   ]
  },
  {
   "cell_type": "code",
   "execution_count": 36,
   "metadata": {},
   "outputs": [
    {
     "data": {
      "text/plain": [
       "{'albertogcmr': {'Girgetto',\n",
       "  'J4CODE',\n",
       "  'Raulvv',\n",
       "  'Tommytrg',\n",
       "  'VictorIrix',\n",
       "  'VivianSolide',\n",
       "  'bel',\n",
       "  'boyander',\n",
       "  'epangar',\n",
       "  'evapanizo',\n",
       "  'jhoffner',\n",
       "  'josh35767',\n",
       "  'mc100s',\n",
       "  'papuarza',\n",
       "  'silvio.galli',\n",
       "  'xFloki',\n",
       "  'yacineh'}}"
      ]
     },
     "execution_count": 36,
     "metadata": {},
     "output_type": "execute_result"
    }
   ],
   "source": [
    "create_graph(['albertogcmr'])"
   ]
  },
  {
   "cell_type": "code",
   "execution_count": 44,
   "metadata": {},
   "outputs": [
    {
     "data": {
      "text/html": [
       "<div>\n",
       "<style scoped>\n",
       "    .dataframe tbody tr th:only-of-type {\n",
       "        vertical-align: middle;\n",
       "    }\n",
       "\n",
       "    .dataframe tbody tr th {\n",
       "        vertical-align: top;\n",
       "    }\n",
       "\n",
       "    .dataframe thead th {\n",
       "        text-align: right;\n",
       "    }\n",
       "</style>\n",
       "<table border=\"1\" class=\"dataframe\">\n",
       "  <thead>\n",
       "    <tr style=\"text-align: right;\">\n",
       "      <th></th>\n",
       "      <th>Name_x</th>\n",
       "      <th>Name_y</th>\n",
       "    </tr>\n",
       "  </thead>\n",
       "  <tbody>\n",
       "    <tr>\n",
       "      <th>0</th>\n",
       "      <td>hola</td>\n",
       "      <td>adios</td>\n",
       "    </tr>\n",
       "    <tr>\n",
       "      <th>1</th>\n",
       "      <td>hello</td>\n",
       "      <td>bye</td>\n",
       "    </tr>\n",
       "    <tr>\n",
       "      <th>2</th>\n",
       "      <td>bye</td>\n",
       "      <td>hola</td>\n",
       "    </tr>\n",
       "  </tbody>\n",
       "</table>\n",
       "</div>"
      ],
      "text/plain": [
       "  Name_x Name_y\n",
       "0   hola  adios\n",
       "1  hello    bye\n",
       "2    bye   hola"
      ]
     },
     "execution_count": 44,
     "metadata": {},
     "output_type": "execute_result"
    }
   ],
   "source": [
    "df_social = pd.DataFrame({'Name_x': ['hola', 'hello', 'bye'], 'Name_y': ['adios', 'bye', 'hola']})\n",
    "df_social.head()"
   ]
  },
  {
   "cell_type": "code",
   "execution_count": 45,
   "metadata": {},
   "outputs": [
    {
     "name": "stderr",
     "output_type": "stream",
     "text": [
      "/home/alberto/.local/lib/python3.6/site-packages/networkx/drawing/nx_pylab.py:611: MatplotlibDeprecationWarning: isinstance(..., numbers.Number)\n",
      "  if cb.is_numlike(alpha):\n"
     ]
    },
    {
     "data": {
      "image/png": "[encoded data removed]",
      "text/plain": [
       "<Figure size 432x288 with 1 Axes>"
      ]
     },
     "metadata": {},
     "output_type": "display_data"
    }
   ],
   "source": [
    "G = nx.from_pandas_edgelist(df=df_social, source='Name_x', target='Name_y')\n",
    "\n",
    "nx.draw_kamada_kawai(G, node_size=20, node_color='cyan', with_labels=False)"
   ]
  },
  {
   "cell_type": "code",
   "execution_count": null,
   "metadata": {},
   "outputs": [],
   "source": []
  }
 ],
 "metadata": {
  "kernelspec": {
   "display_name": "Python 3",
   "language": "python",
   "name": "python3"
  },
  "language_info": {
   "codemirror_mode": {
    "name": "ipython",
    "version": 3
   },
   "file_extension": ".py",
   "mimetype": "text/x-python",
   "name": "python",
   "nbconvert_exporter": "python",
   "pygments_lexer": "ipython3",
   "version": "3.6.7"
  }
 },
 "nbformat": 4,
 "nbformat_minor": 2
}
