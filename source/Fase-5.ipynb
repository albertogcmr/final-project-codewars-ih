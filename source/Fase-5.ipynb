{
 "cells": [
  {
   "cell_type": "markdown",
   "metadata": {},
   "source": [
    "## Fase 5: Análisis de datos\n"
   ]
  },
  {
   "cell_type": "code",
   "execution_count": 1,
   "metadata": {},
   "outputs": [],
   "source": [
    "# imports \n",
    "\n",
    "import pandas as pd\n",
    "import numpy as np\n",
    "import seaborn as sns\n",
    "import matplotlib.pyplot as plt\n",
    "from IPython.display import display\n",
    "\n",
    "import requests\n",
    "import json\n",
    "from bs4 import BeautifulSoup\n",
    "\n",
    "import time\n",
    "from sklearn.model_selection import train_test_split\n",
    "from sklearn.metrics import confusion_matrix\n",
    "\n",
    "# from loadCredentials import loadCredentials\n",
    "\n",
    "from sklearn import svm\n",
    "\n",
    "from funciones_scraping import get_languages\n",
    "from funciones_tiempo import timeit\n",
    "from funciones_plot_confusion_matrix import plot_confusion_matrix\n",
    "\n",
    "\n",
    "\n",
    "%matplotlib inline\n",
    "pd.options.display.max_columns = None"
   ]
  },
  {
   "cell_type": "code",
   "execution_count": 2,
   "metadata": {},
   "outputs": [
    {
     "data": {
      "text/plain": [
       "(11428, 57)"
      ]
     },
     "execution_count": 2,
     "metadata": {},
     "output_type": "execute_result"
    }
   ],
   "source": [
    "# Cargamos el dataframe de resultante de la fase 4\n",
    "\n",
    "df = pd.read_csv('../output/df-limpio-iter3.csv', index_col=0)\n",
    "df.shape"
   ]
  },
  {
   "cell_type": "code",
   "execution_count": 3,
   "metadata": {},
   "outputs": [
    {
     "data": {
      "text/html": [
       "<div>\n",
       "<style scoped>\n",
       "    .dataframe tbody tr th:only-of-type {\n",
       "        vertical-align: middle;\n",
       "    }\n",
       "\n",
       "    .dataframe tbody tr th {\n",
       "        vertical-align: top;\n",
       "    }\n",
       "\n",
       "    .dataframe thead th {\n",
       "        text-align: right;\n",
       "    }\n",
       "</style>\n",
       "<table border=\"1\" class=\"dataframe\">\n",
       "  <thead>\n",
       "    <tr style=\"text-align: right;\">\n",
       "      <th></th>\n",
       "      <th>allies</th>\n",
       "      <th>bf (beta)</th>\n",
       "      <th>c</th>\n",
       "      <th>c#</th>\n",
       "      <th>c++</th>\n",
       "      <th>clojure</th>\n",
       "      <th>coffeescript</th>\n",
       "      <th>collections</th>\n",
       "      <th>comments</th>\n",
       "      <th>crystal</th>\n",
       "      <th>dart</th>\n",
       "      <th>elixir</th>\n",
       "      <th>elm (beta)</th>\n",
       "      <th>erlang (beta)</th>\n",
       "      <th>f#</th>\n",
       "      <th>followers</th>\n",
       "      <th>following</th>\n",
       "      <th>fortran (beta)</th>\n",
       "      <th>go</th>\n",
       "      <th>groovy (beta)</th>\n",
       "      <th>haskell</th>\n",
       "      <th>honor</th>\n",
       "      <th>java</th>\n",
       "      <th>javascript</th>\n",
       "      <th>julia (beta)</th>\n",
       "      <th>kotlin (beta)</th>\n",
       "      <th>kumite</th>\n",
       "      <th>last seen</th>\n",
       "      <th>leaderboard position</th>\n",
       "      <th>lua (beta)</th>\n",
       "      <th>member since</th>\n",
       "      <th>most recent</th>\n",
       "      <th>nasm (beta)</th>\n",
       "      <th>nim (beta)</th>\n",
       "      <th>objective-c (beta)</th>\n",
       "      <th>ocaml (beta)</th>\n",
       "      <th>php</th>\n",
       "      <th>powershell (beta)</th>\n",
       "      <th>purescript (beta)</th>\n",
       "      <th>python</th>\n",
       "      <th>r (beta)</th>\n",
       "      <th>rank</th>\n",
       "      <th>ruby</th>\n",
       "      <th>rust</th>\n",
       "      <th>scala (beta)</th>\n",
       "      <th>shell</th>\n",
       "      <th>solidity (beta)</th>\n",
       "      <th>sql</th>\n",
       "      <th>swift</th>\n",
       "      <th>total completed kata</th>\n",
       "      <th>total languages trained</th>\n",
       "      <th>translations</th>\n",
       "      <th>typescript</th>\n",
       "      <th>username</th>\n",
       "      <th>github</th>\n",
       "      <th>linkedin</th>\n",
       "      <th>days of activity</th>\n",
       "    </tr>\n",
       "  </thead>\n",
       "  <tbody>\n",
       "    <tr>\n",
       "      <th>0</th>\n",
       "      <td>1.0</td>\n",
       "      <td>0.0</td>\n",
       "      <td>0.0</td>\n",
       "      <td>0.0</td>\n",
       "      <td>0.0</td>\n",
       "      <td>0.0</td>\n",
       "      <td>0.0</td>\n",
       "      <td>0.0</td>\n",
       "      <td>0.0</td>\n",
       "      <td>0.0</td>\n",
       "      <td>0.0</td>\n",
       "      <td>0.0</td>\n",
       "      <td>0.0</td>\n",
       "      <td>0.0</td>\n",
       "      <td>0.0</td>\n",
       "      <td>1.0</td>\n",
       "      <td>1.0</td>\n",
       "      <td>0.0</td>\n",
       "      <td>0.0</td>\n",
       "      <td>0.0</td>\n",
       "      <td>0.0</td>\n",
       "      <td>560.0</td>\n",
       "      <td>0.0</td>\n",
       "      <td>581.0</td>\n",
       "      <td>0.0</td>\n",
       "      <td>0.0</td>\n",
       "      <td>0.0</td>\n",
       "      <td>2018-08-01</td>\n",
       "      <td>0.0</td>\n",
       "      <td>0.0</td>\n",
       "      <td>2014-10-01</td>\n",
       "      <td>C#</td>\n",
       "      <td>0.0</td>\n",
       "      <td>0.0</td>\n",
       "      <td>0.0</td>\n",
       "      <td>0.0</td>\n",
       "      <td>0.0</td>\n",
       "      <td>0.0</td>\n",
       "      <td>0.0</td>\n",
       "      <td>0.0</td>\n",
       "      <td>0.0</td>\n",
       "      <td>4.0</td>\n",
       "      <td>0.0</td>\n",
       "      <td>0.0</td>\n",
       "      <td>0.0</td>\n",
       "      <td>0.0</td>\n",
       "      <td>0.0</td>\n",
       "      <td>0.0</td>\n",
       "      <td>0.0</td>\n",
       "      <td>45.0</td>\n",
       "      <td>2.0</td>\n",
       "      <td>0.0</td>\n",
       "      <td>0.0</td>\n",
       "      <td>brkiesel</td>\n",
       "      <td>NaN</td>\n",
       "      <td>NaN</td>\n",
       "      <td>1400</td>\n",
       "    </tr>\n",
       "    <tr>\n",
       "      <th>1</th>\n",
       "      <td>374.0</td>\n",
       "      <td>0.0</td>\n",
       "      <td>0.0</td>\n",
       "      <td>0.0</td>\n",
       "      <td>0.0</td>\n",
       "      <td>0.0</td>\n",
       "      <td>0.0</td>\n",
       "      <td>1.0</td>\n",
       "      <td>0.0</td>\n",
       "      <td>0.0</td>\n",
       "      <td>0.0</td>\n",
       "      <td>0.0</td>\n",
       "      <td>0.0</td>\n",
       "      <td>0.0</td>\n",
       "      <td>0.0</td>\n",
       "      <td>377.0</td>\n",
       "      <td>386.0</td>\n",
       "      <td>0.0</td>\n",
       "      <td>0.0</td>\n",
       "      <td>0.0</td>\n",
       "      <td>0.0</td>\n",
       "      <td>1984.0</td>\n",
       "      <td>14.0</td>\n",
       "      <td>4449.0</td>\n",
       "      <td>0.0</td>\n",
       "      <td>0.0</td>\n",
       "      <td>0.0</td>\n",
       "      <td>2018-09-01</td>\n",
       "      <td>0.0</td>\n",
       "      <td>0.0</td>\n",
       "      <td>2015-09-01</td>\n",
       "      <td>Python</td>\n",
       "      <td>0.0</td>\n",
       "      <td>0.0</td>\n",
       "      <td>0.0</td>\n",
       "      <td>0.0</td>\n",
       "      <td>0.0</td>\n",
       "      <td>0.0</td>\n",
       "      <td>0.0</td>\n",
       "      <td>138.0</td>\n",
       "      <td>0.0</td>\n",
       "      <td>2.0</td>\n",
       "      <td>402.0</td>\n",
       "      <td>0.0</td>\n",
       "      <td>0.0</td>\n",
       "      <td>0.0</td>\n",
       "      <td>0.0</td>\n",
       "      <td>0.0</td>\n",
       "      <td>0.0</td>\n",
       "      <td>70.0</td>\n",
       "      <td>4.0</td>\n",
       "      <td>0.0</td>\n",
       "      <td>0.0</td>\n",
       "      <td>Em-Ant</td>\n",
       "      <td>https://github.com/Em-Ant</td>\n",
       "      <td>NaN</td>\n",
       "      <td>1096</td>\n",
       "    </tr>\n",
       "    <tr>\n",
       "      <th>2</th>\n",
       "      <td>84.0</td>\n",
       "      <td>0.0</td>\n",
       "      <td>0.0</td>\n",
       "      <td>0.0</td>\n",
       "      <td>0.0</td>\n",
       "      <td>0.0</td>\n",
       "      <td>0.0</td>\n",
       "      <td>0.0</td>\n",
       "      <td>0.0</td>\n",
       "      <td>0.0</td>\n",
       "      <td>0.0</td>\n",
       "      <td>0.0</td>\n",
       "      <td>0.0</td>\n",
       "      <td>0.0</td>\n",
       "      <td>0.0</td>\n",
       "      <td>85.0</td>\n",
       "      <td>84.0</td>\n",
       "      <td>0.0</td>\n",
       "      <td>0.0</td>\n",
       "      <td>0.0</td>\n",
       "      <td>0.0</td>\n",
       "      <td>335.0</td>\n",
       "      <td>0.0</td>\n",
       "      <td>82.0</td>\n",
       "      <td>0.0</td>\n",
       "      <td>0.0</td>\n",
       "      <td>0.0</td>\n",
       "      <td>2017-11-01</td>\n",
       "      <td>0.0</td>\n",
       "      <td>0.0</td>\n",
       "      <td>2015-11-01</td>\n",
       "      <td>JavaScript</td>\n",
       "      <td>0.0</td>\n",
       "      <td>0.0</td>\n",
       "      <td>0.0</td>\n",
       "      <td>0.0</td>\n",
       "      <td>0.0</td>\n",
       "      <td>0.0</td>\n",
       "      <td>0.0</td>\n",
       "      <td>0.0</td>\n",
       "      <td>0.0</td>\n",
       "      <td>5.0</td>\n",
       "      <td>280.0</td>\n",
       "      <td>0.0</td>\n",
       "      <td>0.0</td>\n",
       "      <td>0.0</td>\n",
       "      <td>0.0</td>\n",
       "      <td>0.0</td>\n",
       "      <td>0.0</td>\n",
       "      <td>50.0</td>\n",
       "      <td>2.0</td>\n",
       "      <td>0.0</td>\n",
       "      <td>0.0</td>\n",
       "      <td>Mikeysax</td>\n",
       "      <td>https://github.com/Mikeysax</td>\n",
       "      <td>NaN</td>\n",
       "      <td>731</td>\n",
       "    </tr>\n",
       "    <tr>\n",
       "      <th>3</th>\n",
       "      <td>29.0</td>\n",
       "      <td>0.0</td>\n",
       "      <td>0.0</td>\n",
       "      <td>0.0</td>\n",
       "      <td>0.0</td>\n",
       "      <td>0.0</td>\n",
       "      <td>0.0</td>\n",
       "      <td>0.0</td>\n",
       "      <td>3.0</td>\n",
       "      <td>0.0</td>\n",
       "      <td>0.0</td>\n",
       "      <td>0.0</td>\n",
       "      <td>0.0</td>\n",
       "      <td>0.0</td>\n",
       "      <td>0.0</td>\n",
       "      <td>29.0</td>\n",
       "      <td>30.0</td>\n",
       "      <td>0.0</td>\n",
       "      <td>0.0</td>\n",
       "      <td>0.0</td>\n",
       "      <td>0.0</td>\n",
       "      <td>3101.0</td>\n",
       "      <td>20.0</td>\n",
       "      <td>4524.0</td>\n",
       "      <td>0.0</td>\n",
       "      <td>0.0</td>\n",
       "      <td>1.0</td>\n",
       "      <td>2017-10-01</td>\n",
       "      <td>0.0</td>\n",
       "      <td>0.0</td>\n",
       "      <td>2015-07-01</td>\n",
       "      <td>Go</td>\n",
       "      <td>0.0</td>\n",
       "      <td>0.0</td>\n",
       "      <td>0.0</td>\n",
       "      <td>0.0</td>\n",
       "      <td>0.0</td>\n",
       "      <td>0.0</td>\n",
       "      <td>0.0</td>\n",
       "      <td>5938.0</td>\n",
       "      <td>0.0</td>\n",
       "      <td>2.0</td>\n",
       "      <td>0.0</td>\n",
       "      <td>0.0</td>\n",
       "      <td>0.0</td>\n",
       "      <td>0.0</td>\n",
       "      <td>0.0</td>\n",
       "      <td>0.0</td>\n",
       "      <td>0.0</td>\n",
       "      <td>139.0</td>\n",
       "      <td>3.0</td>\n",
       "      <td>0.0</td>\n",
       "      <td>0.0</td>\n",
       "      <td>kimiamania</td>\n",
       "      <td>https://github.com/kimiamania</td>\n",
       "      <td>https://www.linkedin.com/in/rezhajulio</td>\n",
       "      <td>823</td>\n",
       "    </tr>\n",
       "    <tr>\n",
       "      <th>4</th>\n",
       "      <td>13.0</td>\n",
       "      <td>0.0</td>\n",
       "      <td>0.0</td>\n",
       "      <td>0.0</td>\n",
       "      <td>0.0</td>\n",
       "      <td>0.0</td>\n",
       "      <td>0.0</td>\n",
       "      <td>0.0</td>\n",
       "      <td>0.0</td>\n",
       "      <td>0.0</td>\n",
       "      <td>0.0</td>\n",
       "      <td>0.0</td>\n",
       "      <td>0.0</td>\n",
       "      <td>0.0</td>\n",
       "      <td>0.0</td>\n",
       "      <td>13.0</td>\n",
       "      <td>13.0</td>\n",
       "      <td>0.0</td>\n",
       "      <td>0.0</td>\n",
       "      <td>0.0</td>\n",
       "      <td>0.0</td>\n",
       "      <td>127.0</td>\n",
       "      <td>2.0</td>\n",
       "      <td>114.0</td>\n",
       "      <td>0.0</td>\n",
       "      <td>0.0</td>\n",
       "      <td>0.0</td>\n",
       "      <td>2018-07-01</td>\n",
       "      <td>0.0</td>\n",
       "      <td>0.0</td>\n",
       "      <td>2018-06-01</td>\n",
       "      <td>R</td>\n",
       "      <td>0.0</td>\n",
       "      <td>0.0</td>\n",
       "      <td>0.0</td>\n",
       "      <td>0.0</td>\n",
       "      <td>0.0</td>\n",
       "      <td>0.0</td>\n",
       "      <td>0.0</td>\n",
       "      <td>0.0</td>\n",
       "      <td>0.0</td>\n",
       "      <td>6.0</td>\n",
       "      <td>0.0</td>\n",
       "      <td>0.0</td>\n",
       "      <td>0.0</td>\n",
       "      <td>0.0</td>\n",
       "      <td>0.0</td>\n",
       "      <td>0.0</td>\n",
       "      <td>0.0</td>\n",
       "      <td>17.0</td>\n",
       "      <td>2.0</td>\n",
       "      <td>0.0</td>\n",
       "      <td>0.0</td>\n",
       "      <td>Daigle</td>\n",
       "      <td>NaN</td>\n",
       "      <td>NaN</td>\n",
       "      <td>30</td>\n",
       "    </tr>\n",
       "  </tbody>\n",
       "</table>\n",
       "</div>"
      ],
      "text/plain": [
       "   allies  bf (beta)    c   c#  c++  clojure  coffeescript  collections  \\\n",
       "0     1.0        0.0  0.0  0.0  0.0      0.0           0.0          0.0   \n",
       "1   374.0        0.0  0.0  0.0  0.0      0.0           0.0          1.0   \n",
       "2    84.0        0.0  0.0  0.0  0.0      0.0           0.0          0.0   \n",
       "3    29.0        0.0  0.0  0.0  0.0      0.0           0.0          0.0   \n",
       "4    13.0        0.0  0.0  0.0  0.0      0.0           0.0          0.0   \n",
       "\n",
       "   comments  crystal  dart  elixir  elm (beta)  erlang (beta)   f#  followers  \\\n",
       "0       0.0      0.0   0.0     0.0         0.0            0.0  0.0        1.0   \n",
       "1       0.0      0.0   0.0     0.0         0.0            0.0  0.0      377.0   \n",
       "2       0.0      0.0   0.0     0.0         0.0            0.0  0.0       85.0   \n",
       "3       3.0      0.0   0.0     0.0         0.0            0.0  0.0       29.0   \n",
       "4       0.0      0.0   0.0     0.0         0.0            0.0  0.0       13.0   \n",
       "\n",
       "   following  fortran (beta)   go  groovy (beta)  haskell   honor  java  \\\n",
       "0        1.0             0.0  0.0            0.0      0.0   560.0   0.0   \n",
       "1      386.0             0.0  0.0            0.0      0.0  1984.0  14.0   \n",
       "2       84.0             0.0  0.0            0.0      0.0   335.0   0.0   \n",
       "3       30.0             0.0  0.0            0.0      0.0  3101.0  20.0   \n",
       "4       13.0             0.0  0.0            0.0      0.0   127.0   2.0   \n",
       "\n",
       "   javascript  julia (beta)  kotlin (beta)  kumite   last seen  \\\n",
       "0       581.0           0.0            0.0     0.0  2018-08-01   \n",
       "1      4449.0           0.0            0.0     0.0  2018-09-01   \n",
       "2        82.0           0.0            0.0     0.0  2017-11-01   \n",
       "3      4524.0           0.0            0.0     1.0  2017-10-01   \n",
       "4       114.0           0.0            0.0     0.0  2018-07-01   \n",
       "\n",
       "   leaderboard position  lua (beta) member since most recent  nasm (beta)  \\\n",
       "0                   0.0         0.0   2014-10-01          C#          0.0   \n",
       "1                   0.0         0.0   2015-09-01      Python          0.0   \n",
       "2                   0.0         0.0   2015-11-01  JavaScript          0.0   \n",
       "3                   0.0         0.0   2015-07-01          Go          0.0   \n",
       "4                   0.0         0.0   2018-06-01           R          0.0   \n",
       "\n",
       "   nim (beta)  objective-c (beta)  ocaml (beta)  php  powershell (beta)  \\\n",
       "0         0.0                 0.0           0.0  0.0                0.0   \n",
       "1         0.0                 0.0           0.0  0.0                0.0   \n",
       "2         0.0                 0.0           0.0  0.0                0.0   \n",
       "3         0.0                 0.0           0.0  0.0                0.0   \n",
       "4         0.0                 0.0           0.0  0.0                0.0   \n",
       "\n",
       "   purescript (beta)  python  r (beta)  rank   ruby  rust  scala (beta)  \\\n",
       "0                0.0     0.0       0.0   4.0    0.0   0.0           0.0   \n",
       "1                0.0   138.0       0.0   2.0  402.0   0.0           0.0   \n",
       "2                0.0     0.0       0.0   5.0  280.0   0.0           0.0   \n",
       "3                0.0  5938.0       0.0   2.0    0.0   0.0           0.0   \n",
       "4                0.0     0.0       0.0   6.0    0.0   0.0           0.0   \n",
       "\n",
       "   shell  solidity (beta)  sql  swift  total completed kata  \\\n",
       "0    0.0              0.0  0.0    0.0                  45.0   \n",
       "1    0.0              0.0  0.0    0.0                  70.0   \n",
       "2    0.0              0.0  0.0    0.0                  50.0   \n",
       "3    0.0              0.0  0.0    0.0                 139.0   \n",
       "4    0.0              0.0  0.0    0.0                  17.0   \n",
       "\n",
       "   total languages trained  translations  typescript    username  \\\n",
       "0                      2.0           0.0         0.0    brkiesel   \n",
       "1                      4.0           0.0         0.0      Em-Ant   \n",
       "2                      2.0           0.0         0.0    Mikeysax   \n",
       "3                      3.0           0.0         0.0  kimiamania   \n",
       "4                      2.0           0.0         0.0      Daigle   \n",
       "\n",
       "                          github                                linkedin  \\\n",
       "0                            NaN                                     NaN   \n",
       "1      https://github.com/Em-Ant                                     NaN   \n",
       "2    https://github.com/Mikeysax                                     NaN   \n",
       "3  https://github.com/kimiamania  https://www.linkedin.com/in/rezhajulio   \n",
       "4                            NaN                                     NaN   \n",
       "\n",
       "   days of activity  \n",
       "0              1400  \n",
       "1              1096  \n",
       "2               731  \n",
       "3               823  \n",
       "4                30  "
      ]
     },
     "execution_count": 3,
     "metadata": {},
     "output_type": "execute_result"
    }
   ],
   "source": [
    "df.head()"
   ]
  },
  {
   "cell_type": "code",
   "execution_count": 4,
   "metadata": {},
   "outputs": [],
   "source": [
    "# github y linkedin: sus valors nulos '' han sido reemplazados por NaN. "
   ]
  },
  {
   "cell_type": "markdown",
   "metadata": {},
   "source": [
    "### 5.1 Correlación | heatmap"
   ]
  },
  {
   "cell_type": "code",
   "execution_count": 5,
   "metadata": {},
   "outputs": [
    {
     "data": {
      "image/png": "[encoded data removed]",
      "text/plain": [
       "<Figure size 864x720 with 2 Axes>"
      ]
     },
     "metadata": {
      "needs_background": "light"
     },
     "output_type": "display_data"
    }
   ],
   "source": [
    "correlation = df.corr(method='pearson')\n",
    "\n",
    "fig, ax = plt.subplots(figsize=(12,10)) \n",
    "ax = sns.heatmap(correlation, cmap=\"YlGnBu\")"
   ]
  },
  {
   "cell_type": "code",
   "execution_count": 6,
   "metadata": {},
   "outputs": [
    {
     "data": {
      "text/plain": [
       "(0.9918985840905662, 0.9996497870945525)"
      ]
     },
     "execution_count": 6,
     "metadata": {},
     "output_type": "execute_result"
    }
   ],
   "source": [
    "# Se puede apreciar la alta correlación entre las features sociales: \n",
    "# followers, following, allies\n",
    "\n",
    "correlation.loc['followers', 'allies'], correlation.loc['following', 'allies']"
   ]
  },
  {
   "cell_type": "code",
   "execution_count": 7,
   "metadata": {},
   "outputs": [],
   "source": [
    "# Podemos eliminar dos de las tres por la alta correlación. \n",
    "df.drop(columns=['followers', 'following'], inplace=True)"
   ]
  },
  {
   "cell_type": "code",
   "execution_count": 8,
   "metadata": {},
   "outputs": [
    {
     "data": {
      "image/png": "[encoded data removed]",
      "text/plain": [
       "<Figure size 864x720 with 2 Axes>"
      ]
     },
     "metadata": {
      "needs_background": "light"
     },
     "output_type": "display_data"
    }
   ],
   "source": [
    "correlation = df.corr(method='pearson')\n",
    "\n",
    "fig, ax = plt.subplots(figsize=(12,10)) \n",
    "ax = sns.heatmap(correlation, cmap=\"YlGnBu\")"
   ]
  },
  {
   "cell_type": "code",
   "execution_count": 9,
   "metadata": {},
   "outputs": [
    {
     "data": {
      "text/plain": [
       "1.0    1409\n",
       "0.0    1318\n",
       "2.0     473\n",
       "3.0     293\n",
       "5.0     260\n",
       "Name: allies, dtype: int64"
      ]
     },
     "metadata": {},
     "output_type": "display_data"
    },
    {
     "data": {
      "text/plain": [
       "0.0    11428\n",
       "Name: bf (beta), dtype: int64"
      ]
     },
     "metadata": {},
     "output_type": "display_data"
    },
    {
     "data": {
      "text/plain": [
       "0.0    10658\n",
       "2.0      157\n",
       "3.0       53\n",
       "8.0       44\n",
       "4.0       39\n",
       "Name: c, dtype: int64"
      ]
     },
     "metadata": {},
     "output_type": "display_data"
    },
    {
     "data": {
      "text/plain": [
       "0.0    11428\n",
       "Name: c#, dtype: int64"
      ]
     },
     "metadata": {},
     "output_type": "display_data"
    },
    {
     "data": {
      "text/plain": [
       "0.0    11428\n",
       "Name: c++, dtype: int64"
      ]
     },
     "metadata": {},
     "output_type": "display_data"
    },
    {
     "data": {
      "text/plain": [
       "0.0    11051\n",
       "2.0       70\n",
       "4.0       20\n",
       "3.0       19\n",
       "8.0       12\n",
       "Name: clojure, dtype: int64"
      ]
     },
     "metadata": {},
     "output_type": "display_data"
    },
    {
     "data": {
      "text/plain": [
       "0.0    10918\n",
       "2.0       67\n",
       "3.0       53\n",
       "8.0       27\n",
       "4.0       21\n",
       "Name: coffeescript, dtype: int64"
      ]
     },
     "metadata": {},
     "output_type": "display_data"
    },
    {
     "data": {
      "text/plain": [
       "0.0    10574\n",
       "1.0      617\n",
       "2.0       92\n",
       "3.0       52\n",
       "4.0       26\n",
       "Name: collections, dtype: int64"
      ]
     },
     "metadata": {},
     "output_type": "display_data"
    },
    {
     "data": {
      "text/plain": [
       "0.0    7786\n",
       "1.0     980\n",
       "2.0     508\n",
       "3.0     311\n",
       "4.0     220\n",
       "Name: comments, dtype: int64"
      ]
     },
     "metadata": {},
     "output_type": "display_data"
    },
    {
     "data": {
      "text/plain": [
       "0.0    11325\n",
       "2.0       28\n",
       "3.0        8\n",
       "8.0        6\n",
       "5.0        5\n",
       "Name: crystal, dtype: int64"
      ]
     },
     "metadata": {},
     "output_type": "display_data"
    },
    {
     "data": {
      "text/plain": [
       "0.0    11367\n",
       "2.0       27\n",
       "3.0        7\n",
       "8.0        3\n",
       "4.0        3\n",
       "Name: dart, dtype: int64"
      ]
     },
     "metadata": {},
     "output_type": "display_data"
    },
    {
     "data": {
      "text/plain": [
       "0.0    11107\n",
       "2.0       71\n",
       "4.0       22\n",
       "8.0       15\n",
       "5.0       10\n",
       "Name: elixir, dtype: int64"
      ]
     },
     "metadata": {},
     "output_type": "display_data"
    },
    {
     "data": {
      "text/plain": [
       "0.0    11428\n",
       "Name: elm (beta), dtype: int64"
      ]
     },
     "metadata": {},
     "output_type": "display_data"
    },
    {
     "data": {
      "text/plain": [
       "0.0    11428\n",
       "Name: erlang (beta), dtype: int64"
      ]
     },
     "metadata": {},
     "output_type": "display_data"
    },
    {
     "data": {
      "text/plain": [
       "0.0    11428\n",
       "Name: f#, dtype: int64"
      ]
     },
     "metadata": {},
     "output_type": "display_data"
    },
    {
     "data": {
      "text/plain": [
       "0.0    11428\n",
       "Name: fortran (beta), dtype: int64"
      ]
     },
     "metadata": {},
     "output_type": "display_data"
    },
    {
     "data": {
      "text/plain": [
       "0.0    11027\n",
       "2.0       74\n",
       "4.0       35\n",
       "8.0       24\n",
       "6.0       23\n",
       "Name: go, dtype: int64"
      ]
     },
     "metadata": {},
     "output_type": "display_data"
    },
    {
     "data": {
      "text/plain": [
       "0.0    11428\n",
       "Name: groovy (beta), dtype: int64"
      ]
     },
     "metadata": {},
     "output_type": "display_data"
    },
    {
     "data": {
      "text/plain": [
       "0.0    10440\n",
       "2.0       80\n",
       "3.0       43\n",
       "4.0       39\n",
       "8.0       23\n",
       "Name: haskell, dtype: int64"
      ]
     },
     "metadata": {},
     "output_type": "display_data"
    },
    {
     "data": {
      "text/plain": [
       "2.0    458\n",
       "4.0    395\n",
       "3.0    262\n",
       "6.0    166\n",
       "5.0    154\n",
       "Name: honor, dtype: int64"
      ]
     },
     "metadata": {},
     "output_type": "display_data"
    },
    {
     "data": {
      "text/plain": [
       "0.0    8525\n",
       "2.0     367\n",
       "4.0     197\n",
       "3.0     114\n",
       "8.0      84\n",
       "Name: java, dtype: int64"
      ]
     },
     "metadata": {},
     "output_type": "display_data"
    },
    {
     "data": {
      "text/plain": [
       "0.0    4689\n",
       "2.0     288\n",
       "4.0     282\n",
       "8.0      99\n",
       "3.0      99\n",
       "Name: javascript, dtype: int64"
      ]
     },
     "metadata": {},
     "output_type": "display_data"
    },
    {
     "data": {
      "text/plain": [
       "0.0    11428\n",
       "Name: julia (beta), dtype: int64"
      ]
     },
     "metadata": {},
     "output_type": "display_data"
    },
    {
     "data": {
      "text/plain": [
       "0.0    11428\n",
       "Name: kotlin (beta), dtype: int64"
      ]
     },
     "metadata": {},
     "output_type": "display_data"
    },
    {
     "data": {
      "text/plain": [
       "0.0    9565\n",
       "1.0     889\n",
       "2.0     283\n",
       "3.0     161\n",
       "4.0     106\n",
       "Name: kumite, dtype: int64"
      ]
     },
     "metadata": {},
     "output_type": "display_data"
    },
    {
     "data": {
      "text/plain": [
       "2018-12-01    1413\n",
       "2018-11-01    1286\n",
       "2018-10-01     875\n",
       "2018-09-01     663\n",
       "2018-08-01     580\n",
       "Name: last seen, dtype: int64"
      ]
     },
     "metadata": {},
     "output_type": "display_data"
    },
    {
     "data": {
      "text/plain": [
       "0.0      10682\n",
       "618.0        2\n",
       "744.0        2\n",
       "611.0        2\n",
       "425.0        2\n",
       "Name: leaderboard position, dtype: int64"
      ]
     },
     "metadata": {},
     "output_type": "display_data"
    },
    {
     "data": {
      "text/plain": [
       "0.0    11428\n",
       "Name: lua (beta), dtype: int64"
      ]
     },
     "metadata": {},
     "output_type": "display_data"
    },
    {
     "data": {
      "text/plain": [
       "2017-01-01    309\n",
       "2016-11-01    307\n",
       "2017-03-01    301\n",
       "2016-12-01    288\n",
       "2016-10-01    285\n",
       "Name: member since, dtype: int64"
      ]
     },
     "metadata": {},
     "output_type": "display_data"
    },
    {
     "data": {
      "text/plain": [
       "JavaScript    4058\n",
       "Python        2637\n",
       "Java          1152\n",
       "Ruby           740\n",
       "C#             688\n",
       "Name: most recent, dtype: int64"
      ]
     },
     "metadata": {},
     "output_type": "display_data"
    },
    {
     "data": {
      "text/plain": [
       "0.0    11428\n",
       "Name: nasm (beta), dtype: int64"
      ]
     },
     "metadata": {},
     "output_type": "display_data"
    },
    {
     "data": {
      "text/plain": [
       "0.0    11428\n",
       "Name: nim (beta), dtype: int64"
      ]
     },
     "metadata": {},
     "output_type": "display_data"
    },
    {
     "data": {
      "text/plain": [
       "0.0    11428\n",
       "Name: objective-c (beta), dtype: int64"
      ]
     },
     "metadata": {},
     "output_type": "display_data"
    },
    {
     "data": {
      "text/plain": [
       "0.0    11428\n",
       "Name: ocaml (beta), dtype: int64"
      ]
     },
     "metadata": {},
     "output_type": "display_data"
    },
    {
     "data": {
      "text/plain": [
       "0.0    10766\n",
       "2.0      112\n",
       "4.0       35\n",
       "3.0       27\n",
       "8.0       25\n",
       "Name: php, dtype: int64"
      ]
     },
     "metadata": {},
     "output_type": "display_data"
    },
    {
     "data": {
      "text/plain": [
       "0.0    11428\n",
       "Name: powershell (beta), dtype: int64"
      ]
     },
     "metadata": {},
     "output_type": "display_data"
    },
    {
     "data": {
      "text/plain": [
       "0.0    11428\n",
       "Name: purescript (beta), dtype: int64"
      ]
     },
     "metadata": {},
     "output_type": "display_data"
    },
    {
     "data": {
      "text/plain": [
       "0.0    6491\n",
       "2.0     324\n",
       "4.0     179\n",
       "3.0     114\n",
       "8.0     109\n",
       "Name: python, dtype: int64"
      ]
     },
     "metadata": {},
     "output_type": "display_data"
    },
    {
     "data": {
      "text/plain": [
       "0.0    11428\n",
       "Name: r (beta), dtype: int64"
      ]
     },
     "metadata": {},
     "output_type": "display_data"
    },
    {
     "data": {
      "text/plain": [
       "8.0    2231\n",
       "5.0    2098\n",
       "4.0    1920\n",
       "6.0    1818\n",
       "7.0    1464\n",
       "Name: rank, dtype: int64"
      ]
     },
     "metadata": {},
     "output_type": "display_data"
    },
    {
     "data": {
      "text/plain": [
       "0.0    9219\n",
       "2.0     126\n",
       "4.0     105\n",
       "3.0      66\n",
       "8.0      41\n",
       "Name: ruby, dtype: int64"
      ]
     },
     "metadata": {},
     "output_type": "display_data"
    },
    {
     "data": {
      "text/plain": [
       "0.0    11188\n",
       "2.0       53\n",
       "3.0       21\n",
       "4.0       15\n",
       "8.0       10\n",
       "Name: rust, dtype: int64"
      ]
     },
     "metadata": {},
     "output_type": "display_data"
    },
    {
     "data": {
      "text/plain": [
       "0.0    11428\n",
       "Name: scala (beta), dtype: int64"
      ]
     },
     "metadata": {},
     "output_type": "display_data"
    },
    {
     "data": {
      "text/plain": [
       "0.0    11113\n",
       "2.0       98\n",
       "3.0       20\n",
       "5.0       17\n",
       "6.0       13\n",
       "Name: shell, dtype: int64"
      ]
     },
     "metadata": {},
     "output_type": "display_data"
    },
    {
     "data": {
      "text/plain": [
       "0.0    11428\n",
       "Name: solidity (beta), dtype: int64"
      ]
     },
     "metadata": {},
     "output_type": "display_data"
    },
    {
     "data": {
      "text/plain": [
       "0.0    10274\n",
       "2.0      134\n",
       "4.0       54\n",
       "8.0       38\n",
       "6.0       35\n",
       "Name: sql, dtype: int64"
      ]
     },
     "metadata": {},
     "output_type": "display_data"
    },
    {
     "data": {
      "text/plain": [
       "0.0    11195\n",
       "2.0       59\n",
       "4.0       15\n",
       "8.0       13\n",
       "3.0       12\n",
       "Name: swift, dtype: int64"
      ]
     },
     "metadata": {},
     "output_type": "display_data"
    },
    {
     "data": {
      "text/plain": [
       "2.0    654\n",
       "1.0    580\n",
       "3.0    389\n",
       "4.0    283\n",
       "6.0    227\n",
       "Name: total completed kata, dtype: int64"
      ]
     },
     "metadata": {},
     "output_type": "display_data"
    },
    {
     "data": {
      "text/plain": [
       "1.0    5357\n",
       "2.0    2690\n",
       "3.0    1383\n",
       "4.0     729\n",
       "5.0     437\n",
       "Name: total languages trained, dtype: int64"
      ]
     },
     "metadata": {},
     "output_type": "display_data"
    },
    {
     "data": {
      "text/plain": [
       "0.0    10815\n",
       "1.0      190\n",
       "2.0      107\n",
       "3.0       61\n",
       "4.0       34\n",
       "Name: translations, dtype: int64"
      ]
     },
     "metadata": {},
     "output_type": "display_data"
    },
    {
     "data": {
      "text/plain": [
       "0.0    11030\n",
       "2.0       78\n",
       "8.0       39\n",
       "3.0       22\n",
       "4.0       21\n",
       "Name: typescript, dtype: int64"
      ]
     },
     "metadata": {},
     "output_type": "display_data"
    },
    {
     "data": {
      "text/plain": [
       "arashnamvar     1\n",
       "Step_Ua         1\n",
       "felixlaumon     1\n",
       "regoooooooow    1\n",
       "enzidesk        1\n",
       "Name: username, dtype: int64"
      ]
     },
     "metadata": {},
     "output_type": "display_data"
    },
    {
     "data": {
      "text/plain": [
       "https://github.com/00riddle00    1\n",
       "https://github.com/fsuper        1\n",
       "https://github.com/joncancode    1\n",
       "https://github.com/RvdV1979      1\n",
       "https://github.com/Gwandoya      1\n",
       "Name: github, dtype: int64"
      ]
     },
     "metadata": {},
     "output_type": "display_data"
    },
    {
     "data": {
      "text/plain": [
       "https://www.linkedin.com/in/tanetachyon/                1\n",
       "https://www.linkedin.com/in/ksr-akhilesh-a99261144/     1\n",
       "https://www.linkedin.com/in/rezhajulio                  1\n",
       "https://www.linkedin.com/in/charles-ituah-562536137/    1\n",
       "https://www.linkedin.com/in/wyatt-roehler/              1\n",
       "Name: linkedin, dtype: int64"
      ]
     },
     "metadata": {},
     "output_type": "display_data"
    },
    {
     "data": {
      "text/plain": [
       "0      1682\n",
       "31      401\n",
       "61      322\n",
       "30      247\n",
       "365     230\n",
       "Name: days of activity, dtype: int64"
      ]
     },
     "metadata": {},
     "output_type": "display_data"
    }
   ],
   "source": [
    "# TO DO\n",
    "\n",
    "# hay muchas columnas que están a 0 todos sus valores (las que están en blanco en corr)\n",
    "\n",
    "for col in df.columns: \n",
    "    display(df[col].value_counts().head(5))\n",
    "    \n",
    "# Las vamos a eliminar"
   ]
  },
  {
   "cell_type": "code",
   "execution_count": 10,
   "metadata": {},
   "outputs": [
    {
     "data": {
      "text/plain": [
       "allies                     float64\n",
       "bf (beta)                  float64\n",
       "c                          float64\n",
       "c#                         float64\n",
       "c++                        float64\n",
       "clojure                    float64\n",
       "coffeescript               float64\n",
       "collections                float64\n",
       "comments                   float64\n",
       "crystal                    float64\n",
       "dart                       float64\n",
       "elixir                     float64\n",
       "elm (beta)                 float64\n",
       "erlang (beta)              float64\n",
       "f#                         float64\n",
       "fortran (beta)             float64\n",
       "go                         float64\n",
       "groovy (beta)              float64\n",
       "haskell                    float64\n",
       "honor                      float64\n",
       "java                       float64\n",
       "javascript                 float64\n",
       "julia (beta)               float64\n",
       "kotlin (beta)              float64\n",
       "kumite                     float64\n",
       "last seen                   object\n",
       "leaderboard position       float64\n",
       "lua (beta)                 float64\n",
       "member since                object\n",
       "most recent                 object\n",
       "nasm (beta)                float64\n",
       "nim (beta)                 float64\n",
       "objective-c (beta)         float64\n",
       "ocaml (beta)               float64\n",
       "php                        float64\n",
       "powershell (beta)          float64\n",
       "purescript (beta)          float64\n",
       "python                     float64\n",
       "r (beta)                   float64\n",
       "rank                       float64\n",
       "ruby                       float64\n",
       "rust                       float64\n",
       "scala (beta)               float64\n",
       "shell                      float64\n",
       "solidity (beta)            float64\n",
       "sql                        float64\n",
       "swift                      float64\n",
       "total completed kata       float64\n",
       "total languages trained    float64\n",
       "translations               float64\n",
       "typescript                 float64\n",
       "username                    object\n",
       "github                      object\n",
       "linkedin                    object\n",
       "days of activity             int64\n",
       "dtype: object"
      ]
     },
     "execution_count": 10,
     "metadata": {},
     "output_type": "execute_result"
    }
   ],
   "source": [
    "df.dtypes"
   ]
  },
  {
   "cell_type": "markdown",
   "metadata": {},
   "source": [
    "### 5.2 Supervised Learning"
   ]
  },
  {
   "cell_type": "code",
   "execution_count": 11,
   "metadata": {},
   "outputs": [],
   "source": [
    "# Nuestro target (y) será el lenguaje último entrenado. Hay que pasarlo a numérico para \n",
    "# hacer la predición"
   ]
  },
  {
   "cell_type": "code",
   "execution_count": 12,
   "metadata": {},
   "outputs": [
    {
     "data": {
      "text/plain": [
       "['bf (beta)',\n",
       " 'c',\n",
       " 'c#',\n",
       " 'c++',\n",
       " 'clojure',\n",
       " 'coffeescript',\n",
       " 'crystal',\n",
       " 'dart',\n",
       " 'elixir',\n",
       " 'elm (beta)',\n",
       " 'erlang (beta)',\n",
       " 'f#',\n",
       " 'fortran (beta)',\n",
       " 'go',\n",
       " 'groovy (beta)',\n",
       " 'haskell',\n",
       " 'java',\n",
       " 'javascript',\n",
       " 'julia (beta)',\n",
       " 'kotlin (beta)',\n",
       " 'lua (beta)',\n",
       " 'nasm (beta)',\n",
       " 'nim (beta)',\n",
       " 'objective-c (beta)',\n",
       " 'ocaml (beta)',\n",
       " 'php',\n",
       " 'powershell (beta)',\n",
       " 'purescript (beta)',\n",
       " 'python',\n",
       " 'r (beta)',\n",
       " 'ruby',\n",
       " 'rust',\n",
       " 'scala (beta)',\n",
       " 'shell',\n",
       " 'solidity (beta)',\n",
       " 'sql',\n",
       " 'swift',\n",
       " 'typescript']"
      ]
     },
     "execution_count": 12,
     "metadata": {},
     "output_type": "execute_result"
    }
   ],
   "source": [
    "languages = sorted([lan for lan in get_languages()])\n",
    "languages"
   ]
  },
  {
   "cell_type": "code",
   "execution_count": 13,
   "metadata": {},
   "outputs": [],
   "source": [
    "# El numérico será el index de la lista\n",
    "\n",
    "def target_column(x, lista_lenguages=languages): \n",
    "    try: \n",
    "        res = lista_lenguages.index(x.lower())\n",
    "    except: \n",
    "        res = -1\n",
    "    return res\n",
    "\n",
    "df['target'] = df['most recent'].apply(lambda x: target_column(x, languages))"
   ]
  },
  {
   "cell_type": "code",
   "execution_count": 14,
   "metadata": {},
   "outputs": [
    {
     "data": {
      "text/plain": [
       "allies                     float64\n",
       "bf (beta)                  float64\n",
       "c                          float64\n",
       "c#                         float64\n",
       "c++                        float64\n",
       "clojure                    float64\n",
       "coffeescript               float64\n",
       "collections                float64\n",
       "comments                   float64\n",
       "crystal                    float64\n",
       "dart                       float64\n",
       "elixir                     float64\n",
       "elm (beta)                 float64\n",
       "erlang (beta)              float64\n",
       "f#                         float64\n",
       "fortran (beta)             float64\n",
       "go                         float64\n",
       "groovy (beta)              float64\n",
       "haskell                    float64\n",
       "honor                      float64\n",
       "java                       float64\n",
       "javascript                 float64\n",
       "julia (beta)               float64\n",
       "kotlin (beta)              float64\n",
       "kumite                     float64\n",
       "last seen                   object\n",
       "leaderboard position       float64\n",
       "lua (beta)                 float64\n",
       "member since                object\n",
       "most recent                 object\n",
       "nasm (beta)                float64\n",
       "nim (beta)                 float64\n",
       "objective-c (beta)         float64\n",
       "ocaml (beta)               float64\n",
       "php                        float64\n",
       "powershell (beta)          float64\n",
       "purescript (beta)          float64\n",
       "python                     float64\n",
       "r (beta)                   float64\n",
       "rank                       float64\n",
       "ruby                       float64\n",
       "rust                       float64\n",
       "scala (beta)               float64\n",
       "shell                      float64\n",
       "solidity (beta)            float64\n",
       "sql                        float64\n",
       "swift                      float64\n",
       "total completed kata       float64\n",
       "total languages trained    float64\n",
       "translations               float64\n",
       "typescript                 float64\n",
       "username                    object\n",
       "github                      object\n",
       "linkedin                    object\n",
       "days of activity             int64\n",
       "target                       int64\n",
       "dtype: object"
      ]
     },
     "execution_count": 14,
     "metadata": {},
     "output_type": "execute_result"
    }
   ],
   "source": [
    "df.dtypes"
   ]
  },
  {
   "cell_type": "code",
   "execution_count": 15,
   "metadata": {},
   "outputs": [
    {
     "data": {
      "text/plain": [
       " 17    4058\n",
       " 28    2637\n",
       " 16    1152\n",
       " 30     740\n",
       " 2      688\n",
       " 3      409\n",
       " 15     356\n",
       " 1      225\n",
       " 25     183\n",
       "-1      182\n",
       " 13     165\n",
       " 35     158\n",
       " 8       83\n",
       " 4       81\n",
       " 37      78\n",
       " 36      75\n",
       " 31      72\n",
       " 33      33\n",
       " 5       20\n",
       " 11      19\n",
       " 6       10\n",
       " 7        4\n",
       "Name: target, dtype: int64"
      ]
     },
     "execution_count": 15,
     "metadata": {},
     "output_type": "execute_result"
    }
   ],
   "source": [
    "df.target.value_counts()"
   ]
  },
  {
   "cell_type": "code",
   "execution_count": 16,
   "metadata": {},
   "outputs": [],
   "source": [
    "# nos quedamos sólo con las columnas numéricas\n",
    "\n",
    "# df_numeric = df.select_dtypes(include=['float', 'int64'])  \n",
    "# df_numeric.dtypes\n",
    "\n",
    "# df_numeric.to_csv('../output/df-limpio-iter3-numeric.csv')\n",
    "\n",
    "df_numeric = df.select_dtypes(include=['float', 'int64'])"
   ]
  },
  {
   "cell_type": "code",
   "execution_count": 17,
   "metadata": {},
   "outputs": [],
   "source": [
    "x_columns = [c for c in df_numeric.columns if c != 'target']\n",
    "X = df_numeric[x_columns]\n",
    "y = df_numeric.target\n",
    "X_train, X_test, y_train, y_test = train_test_split(X, y, test_size=0.20, random_state=42)"
   ]
  },
  {
   "cell_type": "code",
   "execution_count": 18,
   "metadata": {},
   "outputs": [
    {
     "data": {
      "text/plain": [
       "((9142, 49), (2286, 49), (9142,), (2286,))"
      ]
     },
     "execution_count": 18,
     "metadata": {},
     "output_type": "execute_result"
    }
   ],
   "source": [
    "X_train.shape, X_test.shape, y_train.shape, y_test.shape"
   ]
  },
  {
   "cell_type": "markdown",
   "metadata": {},
   "source": [
    "#### 5.2.1 SVM (Suport Vector Machine)"
   ]
  },
  {
   "cell_type": "code",
   "execution_count": 19,
   "metadata": {},
   "outputs": [
    {
     "data": {
      "text/plain": [
       "SVC(C=1.0, cache_size=200, class_weight=None, coef0=0.0,\n",
       "  decision_function_shape='ovr', degree=3, gamma='auto_deprecated',\n",
       "  kernel='rbf', max_iter=-1, probability=False, random_state=None,\n",
       "  shrinking=True, tol=0.001, verbose=False)"
      ]
     },
     "execution_count": 19,
     "metadata": {},
     "output_type": "execute_result"
    }
   ],
   "source": [
    "# Parámetros por defecto\n",
    "\n",
    "svm.SVC()"
   ]
  },
  {
   "cell_type": "code",
   "execution_count": 20,
   "metadata": {},
   "outputs": [],
   "source": [
    "\n",
    "clf = svm.SVC(gamma='scale', kernel='rbf') # kernel = poly o linear cuelga el PC\n",
    "clf.fit(X_train, y_train)\n",
    "y_pred = clf.predict(X_test)"
   ]
  },
  {
   "cell_type": "code",
   "execution_count": 21,
   "metadata": {},
   "outputs": [
    {
     "name": "stdout",
     "output_type": "stream",
     "text": [
      "Accuracy: 0.5144356955380578\n"
     ]
    }
   ],
   "source": [
    "# Computer prediction accuracy\n",
    "\n",
    "from sklearn import metrics\n",
    "print(\"Accuracy:\", metrics.accuracy_score(y_test, y_pred))"
   ]
  },
  {
   "cell_type": "code",
   "execution_count": 22,
   "metadata": {},
   "outputs": [
    {
     "data": {
      "text/plain": [
       "49"
      ]
     },
     "execution_count": 22,
     "metadata": {},
     "output_type": "execute_result"
    }
   ],
   "source": [
    "len(x_columns)"
   ]
  },
  {
   "cell_type": "code",
   "execution_count": 34,
   "metadata": {},
   "outputs": [
    {
     "data": {
      "image/png": "[encoded data removed]",
      "text/plain": [
       "<Figure size 864x720 with 2 Axes>"
      ]
     },
     "metadata": {
      "needs_background": "light"
     },
     "output_type": "display_data"
    }
   ],
   "source": [
    "conf_matrix = confusion_matrix(y_test, y_pred)\n",
    "# class_names = ['a']*21\n",
    "fig, ax = plt.subplots(figsize=(12,10)) \n",
    "ax = sns.heatmap(conf_matrix/conf_matrix.sum(axis=1), cmap=\"YlGnBu\")"
   ]
  },
  {
   "cell_type": "code",
   "execution_count": 35,
   "metadata": {},
   "outputs": [],
   "source": [
    "# Nuestro sistema es nefasto salvo para los lenguajes más probables. "
   ]
  },
  {
   "cell_type": "markdown",
   "metadata": {},
   "source": [
    "#### SVM Normalized"
   ]
  },
  {
   "cell_type": "code",
   "execution_count": 86,
   "metadata": {},
   "outputs": [
    {
     "data": {
      "text/plain": [
       "Index(['allies', 'bf (beta)', 'c', 'c#', 'c++', 'clojure', 'coffeescript',\n",
       "       'collections', 'comments', 'crystal', 'dart', 'elixir', 'elm (beta)',\n",
       "       'erlang (beta)', 'f#', 'fortran (beta)', 'go', 'groovy (beta)',\n",
       "       'haskell', 'honor', 'java', 'javascript', 'julia (beta)',\n",
       "       'kotlin (beta)', 'kumite', 'leaderboard position', 'lua (beta)',\n",
       "       'nasm (beta)', 'nim (beta)', 'objective-c (beta)', 'ocaml (beta)',\n",
       "       'php', 'powershell (beta)', 'purescript (beta)', 'python', 'r (beta)',\n",
       "       'rank', 'ruby', 'rust', 'scala (beta)', 'shell', 'solidity (beta)',\n",
       "       'sql', 'swift', 'total completed kata', 'total languages trained',\n",
       "       'translations', 'typescript', 'time', 'target'],\n",
       "      dtype='object')"
      ]
     },
     "execution_count": 86,
     "metadata": {},
     "output_type": "execute_result"
    }
   ],
   "source": [
    "# df_numeric.dtypes\n",
    "df_numeric.columns"
   ]
  },
  {
   "cell_type": "code",
   "execution_count": 87,
   "metadata": {},
   "outputs": [],
   "source": [
    "from sklearn.preprocessing import StandardScaler\n",
    "\n",
    "x_columns = [c for c in df_numeric.columns if c != 'target']\n",
    "X = df_numeric[x_columns]\n",
    "y = df_numeric.target"
   ]
  },
  {
   "cell_type": "code",
   "execution_count": 88,
   "metadata": {},
   "outputs": [
    {
     "name": "stderr",
     "output_type": "stream",
     "text": [
      "/home/alberto/.local/lib/python3.6/site-packages/sklearn/preprocessing/data.py:625: DataConversionWarning: Data with input dtype int64, float64 were all converted to float64 by StandardScaler.\n",
      "  return self.partial_fit(X, y)\n",
      "/home/alberto/.local/lib/python3.6/site-packages/ipykernel_launcher.py:5: DataConversionWarning: Data with input dtype int64, float64 were all converted to float64 by StandardScaler.\n",
      "  \"\"\"\n"
     ]
    }
   ],
   "source": [
    "data = X\n",
    "\n",
    "scaler = StandardScaler()\n",
    "scaler.fit(data)\n",
    "X_sca = scaler.transform(data)\n",
    "X_train, X_test, y_train, y_test = train_test_split(X_sca, y, test_size=0.20, random_state=42)"
   ]
  },
  {
   "cell_type": "code",
   "execution_count": 89,
   "metadata": {},
   "outputs": [
    {
     "name": "stdout",
     "output_type": "stream",
     "text": [
      "Accuracy: 0.44138232720909887\n"
     ]
    }
   ],
   "source": [
    "clf_norm = svm.SVC(gamma='scale', kernel='rbf') # kernel = poly o linear cuelga el PC\n",
    "clf_norm.fit(X_train, y_train)\n",
    "y_pred = clf_norm.predict(X_test)\n",
    "\n",
    "print(\"Accuracy:\", metrics.accuracy_score(y_test, y_pred))"
   ]
  },
  {
   "cell_type": "code",
   "execution_count": 94,
   "metadata": {},
   "outputs": [
    {
     "name": "stderr",
     "output_type": "stream",
     "text": [
      "/home/alberto/.local/lib/python3.6/site-packages/sklearn/model_selection/_split.py:652: Warning: The least populated class in y has only 2 members, which is too few. The minimum number of members in any class cannot be less than n_splits=5.\n",
      "  % (min_groups, self.n_splits)), Warning)\n",
      "/home/alberto/.local/lib/python3.6/site-packages/sklearn/svm/base.py:196: FutureWarning: The default value of gamma will change from 'auto' to 'scale' in version 0.22 to account better for unscaled features. Set gamma explicitly to 'auto' or 'scale' to avoid this warning.\n",
      "  \"avoid this warning.\", FutureWarning)\n",
      "/home/alberto/.local/lib/python3.6/site-packages/sklearn/svm/base.py:196: FutureWarning: The default value of gamma will change from 'auto' to 'scale' in version 0.22 to account better for unscaled features. Set gamma explicitly to 'auto' or 'scale' to avoid this warning.\n",
      "  \"avoid this warning.\", FutureWarning)\n",
      "/home/alberto/.local/lib/python3.6/site-packages/sklearn/svm/base.py:196: FutureWarning: The default value of gamma will change from 'auto' to 'scale' in version 0.22 to account better for unscaled features. Set gamma explicitly to 'auto' or 'scale' to avoid this warning.\n",
      "  \"avoid this warning.\", FutureWarning)\n",
      "/home/alberto/.local/lib/python3.6/site-packages/sklearn/svm/base.py:196: FutureWarning: The default value of gamma will change from 'auto' to 'scale' in version 0.22 to account better for unscaled features. Set gamma explicitly to 'auto' or 'scale' to avoid this warning.\n",
      "  \"avoid this warning.\", FutureWarning)\n",
      "/home/alberto/.local/lib/python3.6/site-packages/sklearn/svm/base.py:196: FutureWarning: The default value of gamma will change from 'auto' to 'scale' in version 0.22 to account better for unscaled features. Set gamma explicitly to 'auto' or 'scale' to avoid this warning.\n",
      "  \"avoid this warning.\", FutureWarning)\n",
      "/home/alberto/.local/lib/python3.6/site-packages/sklearn/svm/base.py:196: FutureWarning: The default value of gamma will change from 'auto' to 'scale' in version 0.22 to account better for unscaled features. Set gamma explicitly to 'auto' or 'scale' to avoid this warning.\n",
      "  \"avoid this warning.\", FutureWarning)\n",
      "/home/alberto/.local/lib/python3.6/site-packages/sklearn/svm/base.py:196: FutureWarning: The default value of gamma will change from 'auto' to 'scale' in version 0.22 to account better for unscaled features. Set gamma explicitly to 'auto' or 'scale' to avoid this warning.\n",
      "  \"avoid this warning.\", FutureWarning)\n",
      "/home/alberto/.local/lib/python3.6/site-packages/sklearn/svm/base.py:196: FutureWarning: The default value of gamma will change from 'auto' to 'scale' in version 0.22 to account better for unscaled features. Set gamma explicitly to 'auto' or 'scale' to avoid this warning.\n",
      "  \"avoid this warning.\", FutureWarning)\n",
      "/home/alberto/.local/lib/python3.6/site-packages/sklearn/svm/base.py:196: FutureWarning: The default value of gamma will change from 'auto' to 'scale' in version 0.22 to account better for unscaled features. Set gamma explicitly to 'auto' or 'scale' to avoid this warning.\n",
      "  \"avoid this warning.\", FutureWarning)\n",
      "/home/alberto/.local/lib/python3.6/site-packages/sklearn/svm/base.py:196: FutureWarning: The default value of gamma will change from 'auto' to 'scale' in version 0.22 to account better for unscaled features. Set gamma explicitly to 'auto' or 'scale' to avoid this warning.\n",
      "  \"avoid this warning.\", FutureWarning)\n",
      "/home/alberto/.local/lib/python3.6/site-packages/sklearn/svm/base.py:196: FutureWarning: The default value of gamma will change from 'auto' to 'scale' in version 0.22 to account better for unscaled features. Set gamma explicitly to 'auto' or 'scale' to avoid this warning.\n",
      "  \"avoid this warning.\", FutureWarning)\n",
      "/home/alberto/.local/lib/python3.6/site-packages/sklearn/svm/base.py:196: FutureWarning: The default value of gamma will change from 'auto' to 'scale' in version 0.22 to account better for unscaled features. Set gamma explicitly to 'auto' or 'scale' to avoid this warning.\n",
      "  \"avoid this warning.\", FutureWarning)\n",
      "/home/alberto/.local/lib/python3.6/site-packages/sklearn/svm/base.py:196: FutureWarning: The default value of gamma will change from 'auto' to 'scale' in version 0.22 to account better for unscaled features. Set gamma explicitly to 'auto' or 'scale' to avoid this warning.\n",
      "  \"avoid this warning.\", FutureWarning)\n",
      "/home/alberto/.local/lib/python3.6/site-packages/sklearn/svm/base.py:196: FutureWarning: The default value of gamma will change from 'auto' to 'scale' in version 0.22 to account better for unscaled features. Set gamma explicitly to 'auto' or 'scale' to avoid this warning.\n",
      "  \"avoid this warning.\", FutureWarning)\n",
      "/home/alberto/.local/lib/python3.6/site-packages/sklearn/svm/base.py:196: FutureWarning: The default value of gamma will change from 'auto' to 'scale' in version 0.22 to account better for unscaled features. Set gamma explicitly to 'auto' or 'scale' to avoid this warning.\n",
      "  \"avoid this warning.\", FutureWarning)\n",
      "/home/alberto/.local/lib/python3.6/site-packages/sklearn/svm/base.py:196: FutureWarning: The default value of gamma will change from 'auto' to 'scale' in version 0.22 to account better for unscaled features. Set gamma explicitly to 'auto' or 'scale' to avoid this warning.\n",
      "  \"avoid this warning.\", FutureWarning)\n",
      "/home/alberto/.local/lib/python3.6/site-packages/sklearn/svm/base.py:196: FutureWarning: The default value of gamma will change from 'auto' to 'scale' in version 0.22 to account better for unscaled features. Set gamma explicitly to 'auto' or 'scale' to avoid this warning.\n",
      "  \"avoid this warning.\", FutureWarning)\n",
      "/home/alberto/.local/lib/python3.6/site-packages/sklearn/svm/base.py:196: FutureWarning: The default value of gamma will change from 'auto' to 'scale' in version 0.22 to account better for unscaled features. Set gamma explicitly to 'auto' or 'scale' to avoid this warning.\n",
      "  \"avoid this warning.\", FutureWarning)\n",
      "/home/alberto/.local/lib/python3.6/site-packages/sklearn/svm/base.py:196: FutureWarning: The default value of gamma will change from 'auto' to 'scale' in version 0.22 to account better for unscaled features. Set gamma explicitly to 'auto' or 'scale' to avoid this warning.\n",
      "  \"avoid this warning.\", FutureWarning)\n",
      "/home/alberto/.local/lib/python3.6/site-packages/sklearn/svm/base.py:196: FutureWarning: The default value of gamma will change from 'auto' to 'scale' in version 0.22 to account better for unscaled features. Set gamma explicitly to 'auto' or 'scale' to avoid this warning.\n",
      "  \"avoid this warning.\", FutureWarning)\n",
      "/home/alberto/.local/lib/python3.6/site-packages/sklearn/svm/base.py:196: FutureWarning: The default value of gamma will change from 'auto' to 'scale' in version 0.22 to account better for unscaled features. Set gamma explicitly to 'auto' or 'scale' to avoid this warning.\n",
      "  \"avoid this warning.\", FutureWarning)\n",
      "/home/alberto/.local/lib/python3.6/site-packages/sklearn/svm/base.py:196: FutureWarning: The default value of gamma will change from 'auto' to 'scale' in version 0.22 to account better for unscaled features. Set gamma explicitly to 'auto' or 'scale' to avoid this warning.\n",
      "  \"avoid this warning.\", FutureWarning)\n",
      "/home/alberto/.local/lib/python3.6/site-packages/sklearn/svm/base.py:196: FutureWarning: The default value of gamma will change from 'auto' to 'scale' in version 0.22 to account better for unscaled features. Set gamma explicitly to 'auto' or 'scale' to avoid this warning.\n",
      "  \"avoid this warning.\", FutureWarning)\n",
      "/home/alberto/.local/lib/python3.6/site-packages/sklearn/svm/base.py:196: FutureWarning: The default value of gamma will change from 'auto' to 'scale' in version 0.22 to account better for unscaled features. Set gamma explicitly to 'auto' or 'scale' to avoid this warning.\n",
      "  \"avoid this warning.\", FutureWarning)\n",
      "/home/alberto/.local/lib/python3.6/site-packages/sklearn/svm/base.py:196: FutureWarning: The default value of gamma will change from 'auto' to 'scale' in version 0.22 to account better for unscaled features. Set gamma explicitly to 'auto' or 'scale' to avoid this warning.\n",
      "  \"avoid this warning.\", FutureWarning)\n",
      "/home/alberto/.local/lib/python3.6/site-packages/sklearn/svm/base.py:196: FutureWarning: The default value of gamma will change from 'auto' to 'scale' in version 0.22 to account better for unscaled features. Set gamma explicitly to 'auto' or 'scale' to avoid this warning.\n",
      "  \"avoid this warning.\", FutureWarning)\n"
     ]
    },
    {
     "name": "stderr",
     "output_type": "stream",
     "text": [
      "/home/alberto/.local/lib/python3.6/site-packages/sklearn/svm/base.py:196: FutureWarning: The default value of gamma will change from 'auto' to 'scale' in version 0.22 to account better for unscaled features. Set gamma explicitly to 'auto' or 'scale' to avoid this warning.\n",
      "  \"avoid this warning.\", FutureWarning)\n",
      "/home/alberto/.local/lib/python3.6/site-packages/sklearn/svm/base.py:196: FutureWarning: The default value of gamma will change from 'auto' to 'scale' in version 0.22 to account better for unscaled features. Set gamma explicitly to 'auto' or 'scale' to avoid this warning.\n",
      "  \"avoid this warning.\", FutureWarning)\n",
      "/home/alberto/.local/lib/python3.6/site-packages/sklearn/svm/base.py:196: FutureWarning: The default value of gamma will change from 'auto' to 'scale' in version 0.22 to account better for unscaled features. Set gamma explicitly to 'auto' or 'scale' to avoid this warning.\n",
      "  \"avoid this warning.\", FutureWarning)\n",
      "/home/alberto/.local/lib/python3.6/site-packages/sklearn/svm/base.py:196: FutureWarning: The default value of gamma will change from 'auto' to 'scale' in version 0.22 to account better for unscaled features. Set gamma explicitly to 'auto' or 'scale' to avoid this warning.\n",
      "  \"avoid this warning.\", FutureWarning)\n"
     ]
    },
    {
     "data": {
      "text/plain": [
       "{'C': 20, 'coef0': 0.0, 'gamma': 'scale'}"
      ]
     },
     "execution_count": 94,
     "metadata": {},
     "output_type": "execute_result"
    }
   ],
   "source": [
    "# Mejores parámetros para el SVC cercanos a los previos\n",
    "\n",
    "from sklearn.model_selection import GridSearchCV\n",
    "\n",
    "parameters = {'C':[1, 10, 20], 'gamma':('auto', 'scale', 'auto_deprecated'), 'coef0': [0.0, 0.1]}\n",
    "\n",
    "svc_grid = svm.SVC()\n",
    "clf2 = GridSearchCV(svc_grid, parameters, cv=5)\n",
    "\n",
    "clf2.fit(X_train, y_train)\n",
    "\n",
    "clf2.best_params_\n",
    "\n",
    "# {'C': 10, 'coef0': 0.0, 'gamma': 'scale'}"
   ]
  },
  {
   "cell_type": "code",
   "execution_count": 95,
   "metadata": {},
   "outputs": [
    {
     "name": "stdout",
     "output_type": "stream",
     "text": [
      "Accuracy: 0.4916885389326334\n"
     ]
    }
   ],
   "source": [
    "clf_grid = svm.SVC(C=20, coef0=0.0, gamma='scale', kernel='rbf') # kernel = poly o linear cuelga el PC\n",
    "clf_grid.fit(X_train, y_train)\n",
    "y_pred = clf_grid.predict(X_test)\n",
    "\n",
    "print(\"Accuracy:\", metrics.accuracy_score(y_test, y_pred))"
   ]
  },
  {
   "cell_type": "markdown",
   "metadata": {},
   "source": [
    "### 5.3 Unsupervised Learning\n",
    "* KMeans\n",
    "* DBScan"
   ]
  },
  {
   "cell_type": "markdown",
   "metadata": {},
   "source": [
    "#### KMeans"
   ]
  },
  {
   "cell_type": "code",
   "execution_count": 37,
   "metadata": {},
   "outputs": [],
   "source": [
    "from sklearn.cluster import KMeans"
   ]
  },
  {
   "cell_type": "code",
   "execution_count": 38,
   "metadata": {},
   "outputs": [
    {
     "data": {
      "text/plain": [
       "(array([11381.,     0.,     0.,     0.,     0.,     0.,     0.,     0.,\n",
       "            0.,    47.]),\n",
       " array([0. , 0.1, 0.2, 0.3, 0.4, 0.5, 0.6, 0.7, 0.8, 0.9, 1. ]),\n",
       " <a list of 10 Patch objects>)"
      ]
     },
     "execution_count": 38,
     "metadata": {},
     "output_type": "execute_result"
    },
    {
     "data": {
      "image/png": "[encoded data removed]",
      "text/plain": [
       "<Figure size 432x288 with 1 Axes>"
      ]
     },
     "metadata": {
      "needs_background": "light"
     },
     "output_type": "display_data"
    }
   ],
   "source": [
    "df_numeric = pd.read_csv('../output/df-limpio-iter3-numeric.csv', index_col=0)\n",
    "X = df_numeric\n",
    "\n",
    "kmeans = KMeans(n_clusters=2)\n",
    "cw_kmeans = kmeans.fit(X)\n",
    "plt.hist(cw_kmeans.labels_)\n",
    "\n",
    "# Sale una muy mala clasificación"
   ]
  },
  {
   "cell_type": "code",
   "execution_count": 39,
   "metadata": {},
   "outputs": [
    {
     "data": {
      "text/plain": [
       "(array([6587.,    0.,    0.,    0.,    0.,    0.,    0.,    0.,    0.,\n",
       "        4841.]),\n",
       " array([0. , 0.1, 0.2, 0.3, 0.4, 0.5, 0.6, 0.7, 0.8, 0.9, 1. ]),\n",
       " <a list of 10 Patch objects>)"
      ]
     },
     "execution_count": 39,
     "metadata": {},
     "output_type": "execute_result"
    },
    {
     "data": {
      "image/png": "[encoded data removed]",
      "text/plain": [
       "<Figure size 432x288 with 1 Axes>"
      ]
     },
     "metadata": {
      "needs_background": "light"
     },
     "output_type": "display_data"
    }
   ],
   "source": [
    "# https://scikit-learn.org/stable/auto_examples/preprocessing/plot_all_scaling.html\n",
    "\n",
    "from sklearn.preprocessing import Normalizer\n",
    "\n",
    "data = df_numeric\n",
    "scaler = Normalizer()\n",
    "scaler.fit(data)\n",
    "X_norm = scaler.transform(data)\n",
    "\n",
    "kmeans = KMeans(n_clusters=2)\n",
    "cw_kmeans = kmeans.fit(X_norm)\n",
    "plt.hist(cw_kmeans.labels_)"
   ]
  },
  {
   "cell_type": "code",
   "execution_count": 40,
   "metadata": {},
   "outputs": [
    {
     "name": "stderr",
     "output_type": "stream",
     "text": [
      "/home/alberto/.local/lib/python3.6/site-packages/sklearn/preprocessing/data.py:625: DataConversionWarning: Data with input dtype int64, float64 were all converted to float64 by StandardScaler.\n",
      "  return self.partial_fit(X, y)\n",
      "/home/alberto/.local/lib/python3.6/site-packages/ipykernel_launcher.py:6: DataConversionWarning: Data with input dtype int64, float64 were all converted to float64 by StandardScaler.\n",
      "  \n"
     ]
    },
    {
     "data": {
      "text/plain": [
       "(array([10704.,     0.,     0.,     0.,     0.,     0.,     0.,     0.,\n",
       "            0.,   724.]),\n",
       " array([0. , 0.1, 0.2, 0.3, 0.4, 0.5, 0.6, 0.7, 0.8, 0.9, 1. ]),\n",
       " <a list of 10 Patch objects>)"
      ]
     },
     "execution_count": 40,
     "metadata": {},
     "output_type": "execute_result"
    },
    {
     "data": {
      "image/png": "[encoded data removed]",
      "text/plain": [
       "<Figure size 432x288 with 1 Axes>"
      ]
     },
     "metadata": {
      "needs_background": "light"
     },
     "output_type": "display_data"
    }
   ],
   "source": [
    "from sklearn.preprocessing import StandardScaler\n",
    "\n",
    "data = df_numeric\n",
    "scaler = StandardScaler()\n",
    "scaler.fit(data)\n",
    "X_sca = scaler.transform(data)\n",
    "\n",
    "kmeans = KMeans(n_clusters=2)\n",
    "cw_kmeans = kmeans.fit(X_sca)\n",
    "plt.hist(cw_kmeans.labels_)"
   ]
  },
  {
   "cell_type": "markdown",
   "metadata": {},
   "source": [
    "## Resultados\n",
    "\n",
    "Nuestro sistema de ML ha sido simplemente a nivel académico ya que nuestro conjunto de datos no parece permitir este tipo de análisis. \n",
    "\n",
    "Para mejoras futuras añadiremos datos de la API de github para obtener los tipos de commit que realiza el usuario de codewars en la otra plataforma e intentar predecir su nivel de honor. "
   ]
  },
  {
   "cell_type": "code",
   "execution_count": null,
   "metadata": {},
   "outputs": [],
   "source": []
  }
 ],
 "metadata": {
  "kernelspec": {
   "display_name": "Python 3",
   "language": "python",
   "name": "python3"
  },
  "language_info": {
   "codemirror_mode": {
    "name": "ipython",
    "version": 3
   },
   "file_extension": ".py",
   "mimetype": "text/x-python",
   "name": "python",
   "nbconvert_exporter": "python",
   "pygments_lexer": "ipython3",
   "version": "3.6.8"
  }
 },
 "nbformat": 4,
 "nbformat_minor": 2
}
