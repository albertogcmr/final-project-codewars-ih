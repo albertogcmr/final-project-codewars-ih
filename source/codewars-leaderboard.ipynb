{
 "cells": [
  {
   "cell_type": "markdown",
   "metadata": {},
   "source": [
    "# Proyecto Final IH: Recomendador de Codewars|Github"
   ]
  },
  {
   "cell_type": "code",
   "execution_count": null,
   "metadata": {},
   "outputs": [],
   "source": [
    "# https://www.codewars.com/users/leaderboard"
   ]
  },
  {
   "cell_type": "code",
   "execution_count": 3,
   "metadata": {},
   "outputs": [],
   "source": [
    "# imports \n",
    "\n",
    "import pandas as pd\n",
    "import numpy as np\n",
    "import requests\n",
    "import json\n",
    "from bs4 import BeautifulSoup\n",
    "from IPython.display import display\n",
    "\n",
    "pd.options.display.max_columns = None"
   ]
  },
  {
   "cell_type": "markdown",
   "metadata": {},
   "source": [
    "## Fase 1: Obtención de usuarios de forma iterativa"
   ]
  },
  {
   "cell_type": "markdown",
   "metadata": {},
   "source": [
    "### Leaderboard\n",
    "Top 500 de codewars"
   ]
  },
  {
   "cell_type": "code",
   "execution_count": null,
   "metadata": {},
   "outputs": [],
   "source": [
    "# URL\n",
    "\n",
    "url = 'https://www.codewars.com/users/leaderboard'\n",
    "html = requests.get(url).content\n",
    "soup = BeautifulSoup(html, \"lxml\")"
   ]
  },
  {
   "cell_type": "code",
   "execution_count": null,
   "metadata": {},
   "outputs": [],
   "source": [
    "# usuarios de leaderboard\n",
    "def get_top_500(url='https://www.codewars.com/users/leaderboard'): \n",
    "    html = requests.get(url).content\n",
    "    soup = BeautifulSoup(html, \"lxml\")\n",
    "    return {e.text for e in soup.select('tr a')}\n",
    "\n",
    "# users = '\\n'.join(get_top_500())\n",
    "# set_top500\n",
    "# users\n",
    "# get_top_500()"
   ]
  },
  {
   "cell_type": "code",
   "execution_count": null,
   "metadata": {},
   "outputs": [],
   "source": [
    "# Salvamos los nombres en un documento\n",
    "def save_set_users(users, filename='../output/codewars-users.txt'): \n",
    "    ''' Save set/list of users to file '''\n",
    "    with open(filename, 'w') as f: \n",
    "        f.write('\\n'.join(users)) \n",
    "# save_set_users({'hola', 'adios'})"
   ]
  },
  {
   "cell_type": "code",
   "execution_count": null,
   "metadata": {},
   "outputs": [],
   "source": [
    "def save_string_users(users, filename='../output/codewars-users.txt'): \n",
    "    ''' Save string of users to file '''\n",
    "    with open(filename, 'w') as f: \n",
    "        f.write(users) \n",
    "# save_set_users(users)"
   ]
  },
  {
   "cell_type": "code",
   "execution_count": null,
   "metadata": {},
   "outputs": [],
   "source": [
    "def add_set_users(users, filename='../output/codewars-users.txt'): \n",
    "    ''' Append to file '''\n",
    "    with open(filename, 'a') as f: \n",
    "        f.write(users) \n",
    "# add_set_users(users)"
   ]
  },
  {
   "cell_type": "code",
   "execution_count": null,
   "metadata": {},
   "outputs": [],
   "source": [
    "def load_set_users(filename='../output/codewars-users.txt'): \n",
    "    ''' Read from file '''\n",
    "    with open(filename, 'r') as f: \n",
    "        users = f.readlines()\n",
    "    return {user.strip() for user in users}\n",
    "# len(load_set_users())"
   ]
  },
  {
   "cell_type": "markdown",
   "metadata": {},
   "source": [
    "### Get Social"
   ]
  },
  {
   "cell_type": "code",
   "execution_count": null,
   "metadata": {},
   "outputs": [],
   "source": [
    "# get users in clan\n",
    "\n",
    "# https://www.codewars.com/users/albertogcmr/following\n",
    "# https://www.codewars.com/users/albertogcmr/followers\n",
    "# https://www.codewars.com/users/albertogcmr/allies\n",
    "\n",
    "def get_social(user): \n",
    "    res = set()\n",
    "    for link in ['following', 'followers', 'allies']: \n",
    "        url = 'https://www.codewars.com/users/{}/{}'.format(user, link)\n",
    "        html = requests.get(url).content\n",
    "\n",
    "        soup = BeautifulSoup(html, \"lxml\")\n",
    "        res = res.union({e.text for e in soup.select('table a')})\n",
    "    return res\n",
    "\n",
    "# get_social('albertogcmr')"
   ]
  },
  {
   "cell_type": "code",
   "execution_count": null,
   "metadata": {},
   "outputs": [],
   "source": [
    "### Get stats from user\n",
    "'''\n",
    "def get_all_stats(user): \n",
    "    url = 'https://www.codewars.com/users/{}'.format(user)\n",
    "    html = requests.get(url).content\n",
    "    soup = BeautifulSoup(html, \"lxml\")\n",
    "\n",
    "    x = {}\n",
    "    x['username'] = user\n",
    "    for s in soup.select('.stat-box div'): \n",
    "        if s.text.split(':')[0] != 'Profiles': \n",
    "            x[s.text.split(':')[0].lower()] = s.text.split(':')[1]\n",
    "        else: \n",
    "            try: \n",
    "                for e in s.find_all('a', href=True): \n",
    "                    if 'github' in e['href']: \n",
    "                        x['github'] = e['href']\n",
    "                    if 'linkedin' in e['href']: \n",
    "                        x['linkedin'] = e['href']\n",
    "            except: \n",
    "                x['github'] = ''\n",
    "                x['linkedin'] = ''\n",
    "    return x\n",
    "\n",
    "get_all_stats('albertogcmr')\n",
    "\n",
    "'''\n",
    "pass"
   ]
  },
  {
   "cell_type": "markdown",
   "metadata": {},
   "source": [
    "### Iteración para ampliar número de usuarios\n",
    "\n",
    "A partir de la semilla inicial de 500 obtenemos casi 4000 usuarios de codewars"
   ]
  },
  {
   "cell_type": "code",
   "execution_count": null,
   "metadata": {},
   "outputs": [],
   "source": [
    "top500 = get_top_500()\n",
    "total = set().union(top500)\n",
    "users = total"
   ]
  },
  {
   "cell_type": "code",
   "execution_count": null,
   "metadata": {},
   "outputs": [],
   "source": [
    "print(len(total))\n",
    "\n",
    "for i, user in enumerate(users): \n",
    "    total = total.union(get_social(user))\n",
    "    print(i, '\\t', len(total))\n",
    "\n",
    "print(len(total))"
   ]
  },
  {
   "cell_type": "code",
   "execution_count": null,
   "metadata": {},
   "outputs": [],
   "source": [
    "# Me añado a mí mismo\n",
    "\n",
    "total = total.union({'albertogcmr'})\n",
    "for user in get_social('albertogcmr'): \n",
    "    total = total.union(get_social(user))\n",
    "len(total)"
   ]
  },
  {
   "cell_type": "markdown",
   "metadata": {},
   "source": [
    "### Persistencia de datos en un txt"
   ]
  },
  {
   "cell_type": "code",
   "execution_count": null,
   "metadata": {},
   "outputs": [],
   "source": [
    "# save_set_users(users=total, filename='../output/no-borrar-usuarioscodewars-2.txt')\n",
    "total = load_set_users('../output/no-borrar-usuarioscodewars-2.txt')"
   ]
  },
  {
   "cell_type": "code",
   "execution_count": null,
   "metadata": {},
   "outputs": [],
   "source": [
    "len(total)"
   ]
  },
  {
   "cell_type": "markdown",
   "metadata": {},
   "source": [
    "## Fase 2: Obtención de datos de usuario\n",
    "### 2.1 API codewars"
   ]
  },
  {
   "cell_type": "code",
   "execution_count": 4,
   "metadata": {},
   "outputs": [
    {
     "data": {
      "text/plain": [
       "{'username': 'albertogcmr',\n",
       " 'name': 'Alberto García cobo',\n",
       " 'honor': 727,\n",
       " 'clan': 'Ironhack',\n",
       " 'leaderboardPosition': 12892,\n",
       " 'skills': ['java',\n",
       "  'c',\n",
       "  'python',\n",
       "  'jquery',\n",
       "  'javascript',\n",
       "  'crm',\n",
       "  'erp',\n",
       "  'itil'],\n",
       " 'ranks': {'overall': {'rank': -4,\n",
       "   'name': '4 kyu',\n",
       "   'color': 'blue',\n",
       "   'score': 888},\n",
       "  'languages': {'python': {'rank': -4,\n",
       "    'name': '4 kyu',\n",
       "    'color': 'blue',\n",
       "    'score': 857},\n",
       "   'sql': {'rank': -7, 'name': '7 kyu', 'color': 'white', 'score': 24},\n",
       "   'c': {'rank': -8, 'name': '8 kyu', 'color': 'white', 'score': 10}}},\n",
       " 'codeChallenges': {'totalAuthored': 0, 'totalCompleted': 89}}"
      ]
     },
     "execution_count": 4,
     "metadata": {},
     "output_type": "execute_result"
    }
   ],
   "source": [
    "# GET user\n",
    "\n",
    "def get_user_api(user='albertogcmr'): \n",
    "    ''' Obtenemos el json de la API de codewars '''\n",
    "    url = 'https://www.codewars.com/api/v1/users/{}'.format(user)\n",
    "    response = requests.get(url)\n",
    "    return response.json()\n",
    "\n",
    "get_user_api('albertogcmr')"
   ]
  },
  {
   "cell_type": "code",
   "execution_count": 5,
   "metadata": {},
   "outputs": [],
   "source": [
    "def get_value_from_json(user_json, value='username'): \n",
    "    ''' \n",
    "    value en nivel 1 del json: \n",
    "    possible values = ['username', 'honor', 'clan', 'leaderboardPosition', 'skills']\n",
    "    '''\n",
    "    return user_json[value]\n",
    "\n",
    "def get_score_language(user_json, language): \n",
    "    try: \n",
    "        score = user_json['ranks']['languages'][language]['score']\n",
    "    except: \n",
    "        score = 0\n",
    "    return score\n",
    "\n",
    "\n",
    "def get_scores(user_json): \n",
    "    res = {}\n",
    "    for lang in get_languages(): \n",
    "        res[lang] = get_score_language(user_json, lang)\n",
    "    return res\n",
    "\n",
    "# get_score_language(user_json=alberto, language='sca')\n",
    "# get_value_from_json(alberto, 'skills')\n",
    "# get_scores(alberto)"
   ]
  },
  {
   "cell_type": "markdown",
   "metadata": {},
   "source": [
    "### 2.2 Web Scrapping codewars"
   ]
  },
  {
   "cell_type": "markdown",
   "metadata": {},
   "source": [
    "Get stats from user"
   ]
  },
  {
   "cell_type": "code",
   "execution_count": 6,
   "metadata": {},
   "outputs": [
    {
     "data": {
      "text/plain": [
       "{'username': 'albertogcmr',\n",
       " 'name': 'Alberto García cobo',\n",
       " 'clan': 'Ironhack',\n",
       " 'skills': 'java, c, python, jquery, javascript, crm, erp, itil',\n",
       " 'member since': 'Oct 2018',\n",
       " 'last seen': 'Dec 2018',\n",
       " 'github': 'https://github.com/albertogcmr',\n",
       " 'linkedin': 'https://www.linkedin.com/in/albertogarciacobo/',\n",
       " 'following': '593',\n",
       " 'followers': '591',\n",
       " 'allies': '591',\n",
       " 'rank': '4 kyu',\n",
       " 'honor': '727',\n",
       " 'leaderboard position': '#12,892',\n",
       " 'honor percentile': '98th',\n",
       " 'total completed kata': '89',\n",
       " 'total languages trained': '3',\n",
       " 'highest trained': 'Python (4 kyu)',\n",
       " 'most recent': 'Python',\n",
       " 'comments': '0 (0 replies)',\n",
       " 'collections': '0',\n",
       " 'kumite': '0',\n",
       " 'translations': '0 (0 approved)'}"
      ]
     },
     "execution_count": 6,
     "metadata": {},
     "output_type": "execute_result"
    }
   ],
   "source": [
    "def get_all_stats(user): \n",
    "    url = 'https://www.codewars.com/users/{}'.format(user)\n",
    "    html = requests.get(url).content\n",
    "    soup = BeautifulSoup(html, \"lxml\")\n",
    "\n",
    "    x = {}\n",
    "    x['username'] = user\n",
    "    for s in soup.select('.stat-box div'): \n",
    "        if s.text.split(':')[0] != 'Profiles': \n",
    "            x[s.text.split(':')[0].lower()] = s.text.split(':')[1]\n",
    "        else: \n",
    "            try: \n",
    "                for e in s.find_all('a', href=True): \n",
    "                    if 'github' in e['href']: \n",
    "                        x['github'] = e['href']\n",
    "                    if 'linkedin' in e['href']: \n",
    "                        x['linkedin'] = e['href']\n",
    "            except: \n",
    "                x['github'] = ''\n",
    "                x['linkedin'] = ''\n",
    "    return x\n",
    "\n",
    "get_all_stats('albertogcmr')"
   ]
  },
  {
   "cell_type": "code",
   "execution_count": 7,
   "metadata": {},
   "outputs": [
    {
     "data": {
      "text/plain": [
       "{'bf (beta)',\n",
       " 'c',\n",
       " 'c#',\n",
       " 'c++',\n",
       " 'clojure',\n",
       " 'coffeescript',\n",
       " 'crystal',\n",
       " 'dart',\n",
       " 'elixir',\n",
       " 'elm (beta)',\n",
       " 'erlang (beta)',\n",
       " 'f#',\n",
       " 'fortran (beta)',\n",
       " 'go',\n",
       " 'groovy (beta)',\n",
       " 'haskell',\n",
       " 'java',\n",
       " 'javascript',\n",
       " 'julia (beta)',\n",
       " 'kotlin (beta)',\n",
       " 'lua (beta)',\n",
       " 'nasm (beta)',\n",
       " 'nim (beta)',\n",
       " 'objective-c (beta)',\n",
       " 'ocaml (beta)',\n",
       " 'php',\n",
       " 'powershell (beta)',\n",
       " 'purescript (beta)',\n",
       " 'python',\n",
       " 'r (beta)',\n",
       " 'ruby',\n",
       " 'rust',\n",
       " 'scala (beta)',\n",
       " 'shell',\n",
       " 'solidity (beta)',\n",
       " 'sql',\n",
       " 'swift',\n",
       " 'typescript'}"
      ]
     },
     "execution_count": 7,
     "metadata": {},
     "output_type": "execute_result"
    }
   ],
   "source": [
    "def get_languages(url='https://www.codewars.com/kata/latest/my-languages', ignore={'all', 'my languages'}): \n",
    "    html = requests.get(url).content\n",
    "    soup = BeautifulSoup(html, \"lxml\")\n",
    "    return {e.text.lower() for e in soup.select('#language_filter option')}.difference(ignore) \n",
    "\n",
    "get_languages()"
   ]
  },
  {
   "cell_type": "code",
   "execution_count": null,
   "metadata": {},
   "outputs": [],
   "source": [
    "def get_row(user): \n",
    "    ''' \n",
    "    Crea un diccionario con los datos recopilados que se puede\n",
    "    añadir como fila en nuestro dataframe de pandas\n",
    "    '''\n",
    "    user_json = get_user_api(user)\n",
    "    res = get_all_stats(user)\n",
    "    res.update(get_scores(user_json))\n",
    "    return res\n",
    "\n",
    "# ivan = get_row('ijcernicharo')\n",
    "# alberto = get_row('albertogcmr')"
   ]
  },
  {
   "cell_type": "code",
   "execution_count": null,
   "metadata": {},
   "outputs": [],
   "source": [
    "def create_row(data, new_user): \n",
    "    row = get_row(new_user)\n",
    "    return data.append(other=row, ignore_index=True)"
   ]
  },
  {
   "cell_type": "markdown",
   "metadata": {},
   "source": [
    "### 2.3 Creación de DataFrame"
   ]
  },
  {
   "cell_type": "code",
   "execution_count": null,
   "metadata": {},
   "outputs": [],
   "source": [
    "df_users = pd.DataFrame()"
   ]
  },
  {
   "cell_type": "code",
   "execution_count": null,
   "metadata": {},
   "outputs": [],
   "source": [
    "# Por cada uno de los usuarios recopilados, creamos un registro en df_users\n",
    "total_500 = [u for u in total][0:1000]\n",
    "for i, user in enumerate(total_500): \n",
    "    try: \n",
    "        df_users = create_row(data=df_users, new_user=user)\n",
    "        print(i)\n",
    "    except: \n",
    "        print('Fallo:', user)\n",
    "\n",
    "df_users.head()"
   ]
  },
  {
   "cell_type": "code",
   "execution_count": null,
   "metadata": {},
   "outputs": [],
   "source": [
    "df_users = create_row(data=df_users, new_user='ijcernicharo')\n",
    "df_users = create_row(data=df_users, new_user='pablobarrio')\n",
    "df_users.head()"
   ]
  },
  {
   "cell_type": "code",
   "execution_count": null,
   "metadata": {},
   "outputs": [],
   "source": [
    "df_users.head(100)"
   ]
  },
  {
   "cell_type": "code",
   "execution_count": null,
   "metadata": {},
   "outputs": [],
   "source": [
    "'linkedin' in df_users.columns"
   ]
  },
  {
   "cell_type": "code",
   "execution_count": null,
   "metadata": {},
   "outputs": [],
   "source": [
    "df_users = create_row(data=df_users, new_user='albertogcmr')\n",
    "df_users.head(7)"
   ]
  },
  {
   "cell_type": "code",
   "execution_count": null,
   "metadata": {},
   "outputs": [],
   "source": [
    "'linkedin' in df_users.columns"
   ]
  },
  {
   "cell_type": "code",
   "execution_count": null,
   "metadata": {},
   "outputs": [],
   "source": [
    "df_users.to_csv('../output/dataframe.csv')\n",
    "df = pd.read_csv('../output/dataframe.csv')\n",
    "df.head()"
   ]
  },
  {
   "cell_type": "code",
   "execution_count": null,
   "metadata": {},
   "outputs": [],
   "source": [
    "df.games.value_counts()"
   ]
  },
  {
   "cell_type": "markdown",
   "metadata": {},
   "source": [
    "### 2.4 Limpieza de datos\n",
    "\n",
    "Tenemos más de 100 columnas de las que sólo queremos las concernientes a sus datos de programación"
   ]
  },
  {
   "cell_type": "code",
   "execution_count": null,
   "metadata": {},
   "outputs": [],
   "source": [
    "# Nos vamos a quedar con las siguientes columnas\n",
    "get_languages()\n",
    "allies, clan, comments, followers, following, github, honor, last seen, \n",
    "leaderboard position # eliminar el #\n",
    "member since, total completed kata, total languages trained, translations, username, avg. satisfaction rating, \n",
    "contributed kata, created, data structures, data types, fundamentals, graphs, kata approvals, \n",
    "total collected, total completions, total stars, skills, linkedin\n"
   ]
  },
  {
   "cell_type": "code",
   "execution_count": null,
   "metadata": {},
   "outputs": [],
   "source": []
  },
  {
   "cell_type": "code",
   "execution_count": null,
   "metadata": {},
   "outputs": [],
   "source": []
  },
  {
   "cell_type": "markdown",
   "metadata": {},
   "source": [
    "## Fase 3: Persistencia de datos"
   ]
  },
  {
   "cell_type": "code",
   "execution_count": null,
   "metadata": {},
   "outputs": [],
   "source": [
    "Guarda"
   ]
  }
 ],
 "metadata": {
  "kernelspec": {
   "display_name": "Python 3",
   "language": "python",
   "name": "python3"
  },
  "language_info": {
   "codemirror_mode": {
    "name": "ipython",
    "version": 3
   },
   "file_extension": ".py",
   "mimetype": "text/x-python",
   "name": "python",
   "nbconvert_exporter": "python",
   "pygments_lexer": "ipython3",
   "version": "3.6.7"
  }
 },
 "nbformat": 4,
 "nbformat_minor": 2
}
