{
 "cells": [
  {
   "cell_type": "markdown",
   "metadata": {},
   "source": [
    "# Proyecto Final IH: Recomendador de Codewars|Github"
   ]
  },
  {
   "cell_type": "code",
   "execution_count": null,
   "metadata": {},
   "outputs": [],
   "source": [
    "# https://www.codewars.com/users/leaderboard"
   ]
  },
  {
   "cell_type": "code",
   "execution_count": 1,
   "metadata": {},
   "outputs": [],
   "source": [
    "# imports \n",
    "\n",
    "import pandas as pd\n",
    "import numpy as np\n",
    "import requests\n",
    "import json\n",
    "from bs4 import BeautifulSoup\n",
    "from IPython.display import display\n",
    "import time\n",
    "\n",
    "pd.options.display.max_columns = None"
   ]
  },
  {
   "cell_type": "markdown",
   "metadata": {},
   "source": [
    "## Fase 1: Obtención de usuarios de forma iterativa"
   ]
  },
  {
   "cell_type": "markdown",
   "metadata": {},
   "source": [
    "### Leaderboard\n",
    "Top 500 de codewars"
   ]
  },
  {
   "cell_type": "code",
   "execution_count": 2,
   "metadata": {},
   "outputs": [],
   "source": [
    "# URL\n",
    "\n",
    "url = 'https://www.codewars.com/users/leaderboard'\n",
    "html = requests.get(url).content\n",
    "soup = BeautifulSoup(html, \"lxml\")"
   ]
  },
  {
   "cell_type": "code",
   "execution_count": 3,
   "metadata": {},
   "outputs": [],
   "source": [
    "# usuarios de leaderboard\n",
    "def get_top_500(url='https://www.codewars.com/users/leaderboard'): \n",
    "    html = requests.get(url).content\n",
    "    soup = BeautifulSoup(html, \"lxml\")\n",
    "    return {e.text for e in soup.select('tr a')}\n"
   ]
  },
  {
   "cell_type": "code",
   "execution_count": 4,
   "metadata": {},
   "outputs": [],
   "source": [
    "# Salvamos los nombres en un documento\n",
    "\n",
    "def save_set_users(users, filename='../output/codewars-users.txt'): \n",
    "    ''' Save set/list of users to file '''\n",
    "    with open(filename, 'w') as f: \n",
    "        f.write('\\n'.join(users)) \n",
    "# save_set_users({'hola', 'adios'})"
   ]
  },
  {
   "cell_type": "code",
   "execution_count": 5,
   "metadata": {},
   "outputs": [],
   "source": [
    "def save_string_users(users, filename='../output/codewars-users.txt'): \n",
    "    ''' Save string of users to file '''\n",
    "    with open(filename, 'w') as f: \n",
    "        f.write(users) \n",
    "# save_set_users(users)"
   ]
  },
  {
   "cell_type": "code",
   "execution_count": 6,
   "metadata": {},
   "outputs": [],
   "source": [
    "def add_set_users(users, filename='../output/codewars-users.txt'): \n",
    "    ''' Append to file '''\n",
    "    with open(filename, 'a') as f: \n",
    "        f.write(users) \n",
    "# add_set_users(users)"
   ]
  },
  {
   "cell_type": "code",
   "execution_count": 7,
   "metadata": {},
   "outputs": [],
   "source": [
    "def load_set_users(filename='../output/codewars-users.txt'): \n",
    "    ''' Read from file '''\n",
    "    with open(filename, 'r') as f: \n",
    "        users = f.readlines()\n",
    "    return {user.strip() for user in users}\n",
    "# len(load_set_users())"
   ]
  },
  {
   "cell_type": "markdown",
   "metadata": {},
   "source": [
    "### Get Social"
   ]
  },
  {
   "cell_type": "code",
   "execution_count": 8,
   "metadata": {},
   "outputs": [],
   "source": [
    "# get users in clan\n",
    "\n",
    "# https://www.codewars.com/users/albertogcmr/following\n",
    "# https://www.codewars.com/users/albertogcmr/followers\n",
    "# https://www.codewars.com/users/albertogcmr/allies\n",
    "\n",
    "def get_social(user): \n",
    "    res = set()\n",
    "    for link in ['following', 'followers', 'allies']: \n",
    "        url = 'https://www.codewars.com/users/{}/{}'.format(user, link)\n",
    "        html = requests.get(url).content\n",
    "\n",
    "        soup = BeautifulSoup(html, \"lxml\")\n",
    "        res = res.union({e.text for e in soup.select('table a')})\n",
    "    return res\n",
    "\n",
    "# get_social('albertogcmr')"
   ]
  },
  {
   "cell_type": "code",
   "execution_count": 9,
   "metadata": {},
   "outputs": [
    {
     "name": "stdout",
     "output_type": "stream",
     "text": [
      "hola adios\n",
      "'print_prueba'  0.26 ms\n"
     ]
    }
   ],
   "source": [
    "# cálculo de tiempos: \n",
    "\n",
    "def timeit(method):\n",
    "    def timed(*args, **kw):\n",
    "        ts = time.time()\n",
    "        result = method(*args, **kw)\n",
    "        te = time.time()\n",
    "\n",
    "        if 'log_time' in kw:\n",
    "            name = kw.get('log_name', method.__name__.upper())\n",
    "            kw['log_time'][name] = int((te - ts) * 1000)\n",
    "        else:\n",
    "            print('%r  %2.2f ms' %  (method.__name__, (te - ts) * 1000) )\n",
    "        return result\n",
    "\n",
    "    return timed\n",
    "\n",
    "@timeit\n",
    "def print_prueba(a, b):\n",
    "    print(a, b)\n",
    "    \n",
    "print_prueba('hola', 'adios')"
   ]
  },
  {
   "cell_type": "markdown",
   "metadata": {},
   "source": [
    "### Iteración para ampliar número de usuarios\n",
    "\n",
    "A partir de la semilla inicial de 500 obtenemos casi 4000 usuarios de codewars"
   ]
  },
  {
   "cell_type": "code",
   "execution_count": 11,
   "metadata": {},
   "outputs": [
    {
     "data": {
      "text/plain": [
       "499"
      ]
     },
     "execution_count": 11,
     "metadata": {},
     "output_type": "execute_result"
    }
   ],
   "source": [
    "top500 = get_top_500()\n",
    "total = set().union(top500)\n",
    "len(total)"
   ]
  },
  {
   "cell_type": "code",
   "execution_count": null,
   "metadata": {},
   "outputs": [],
   "source": [
    "\n",
    "@timeit\n",
    "def get_social_from_users_set(users_set): \n",
    "    res = users_set\n",
    "    errors = []\n",
    "    for i, user in enumerate(users_set): \n",
    "        try: \n",
    "            res = res.union(get_social(user))\n",
    "        except: \n",
    "            errors.append(user)\n",
    "            \n",
    "    save_set_users(users=errors, filename='../errors/social-error.txt')\n",
    "    return res\n",
    "\n",
    "#\n",
    "\n",
    "total = get_social_from_users_set(total)"
   ]
  },
  {
   "cell_type": "code",
   "execution_count": 12,
   "metadata": {},
   "outputs": [
    {
     "data": {
      "text/plain": [
       "499"
      ]
     },
     "execution_count": 12,
     "metadata": {},
     "output_type": "execute_result"
    }
   ],
   "source": [
    "\n",
    "len(total)"
   ]
  },
  {
   "cell_type": "code",
   "execution_count": 13,
   "metadata": {},
   "outputs": [
    {
     "data": {
      "text/plain": [
       "534"
      ]
     },
     "execution_count": 13,
     "metadata": {},
     "output_type": "execute_result"
    }
   ],
   "source": [
    "# Me añado a mí mismo\n",
    "\n",
    "total = total.union({'albertogcmr', 'boyander'})\n",
    "for user in get_social('albertogcmr'): \n",
    "    total = total.union(get_social(user))\n",
    "len(total)"
   ]
  },
  {
   "cell_type": "markdown",
   "metadata": {},
   "source": [
    "### Persistencia de datos en un txt"
   ]
  },
  {
   "cell_type": "code",
   "execution_count": 14,
   "metadata": {},
   "outputs": [],
   "source": [
    "# save_set_users(users=total, filename='../output/usuarioscodewars-3947.txt')\n",
    "total = load_set_users('../output/usuarioscodewars-3947.txt')"
   ]
  },
  {
   "cell_type": "code",
   "execution_count": 15,
   "metadata": {},
   "outputs": [
    {
     "data": {
      "text/plain": [
       "3947"
      ]
     },
     "execution_count": 15,
     "metadata": {},
     "output_type": "execute_result"
    }
   ],
   "source": [
    "len(total)"
   ]
  },
  {
   "cell_type": "markdown",
   "metadata": {},
   "source": [
    "## Fase 2: Obtención de datos de usuario\n",
    "### 2.1 API codewars"
   ]
  },
  {
   "cell_type": "code",
   "execution_count": 16,
   "metadata": {},
   "outputs": [],
   "source": [
    "# GET user\n",
    "\n",
    "def get_user_api(user='albertogcmr'): \n",
    "    ''' Obtenemos el json de la API de codewars '''\n",
    "    url = 'https://www.codewars.com/api/v1/users/{}'.format(user)\n",
    "    response = requests.get(url)\n",
    "    return response.json()\n",
    "\n",
    "# get_user_api('albertogcmr')"
   ]
  },
  {
   "cell_type": "code",
   "execution_count": 17,
   "metadata": {},
   "outputs": [],
   "source": [
    "def get_value_from_json(user_json, value='username'): \n",
    "    ''' \n",
    "    value en nivel 1 del json: \n",
    "    possible values = ['username', 'honor', 'clan', 'leaderboardPosition', 'skills']\n",
    "    '''\n",
    "    return user_json[value]\n",
    "\n",
    "def get_score_language(user_json, language): \n",
    "    try: \n",
    "        score = user_json['ranks']['languages'][language]['score']\n",
    "    except: \n",
    "        score = 0\n",
    "    return score\n",
    "\n",
    "\n",
    "def get_scores(user_json): \n",
    "    res = {}\n",
    "    for lang in get_languages(): \n",
    "        res[lang] = get_score_language(user_json, lang)\n",
    "    return res\n",
    "\n",
    "# get_score_language(user_json=alberto, language='sca')\n",
    "# get_value_from_json(alberto, 'skills')\n",
    "# get_scores(alberto)"
   ]
  },
  {
   "cell_type": "markdown",
   "metadata": {},
   "source": [
    "### 2.2 Web Scrapping codewars"
   ]
  },
  {
   "cell_type": "markdown",
   "metadata": {},
   "source": [
    "Get stats from user"
   ]
  },
  {
   "cell_type": "code",
   "execution_count": 18,
   "metadata": {},
   "outputs": [],
   "source": [
    "def get_all_stats(user): \n",
    "    url = 'https://www.codewars.com/users/{}'.format(user)\n",
    "    html = requests.get(url).content\n",
    "    soup = BeautifulSoup(html, \"lxml\")\n",
    "\n",
    "    x = {}\n",
    "    x['username'] = user\n",
    "    for s in soup.select('.stat-box div'): \n",
    "        if s.text.split(':')[0] != 'Profiles': \n",
    "            x[s.text.split(':')[0].lower()] = s.text.split(':')[1]\n",
    "        else: \n",
    "            try: \n",
    "                for e in s.find_all('a', href=True): \n",
    "                    if 'github' in e['href']: \n",
    "                        x['github'] = e['href']\n",
    "                    if 'linkedin' in e['href']: \n",
    "                        x['linkedin'] = e['href']\n",
    "            except: \n",
    "                x['github'] = ''\n",
    "                x['linkedin'] = ''\n",
    "    return x\n",
    "\n",
    "# get_all_stats('albertogcmr')"
   ]
  },
  {
   "cell_type": "code",
   "execution_count": 19,
   "metadata": {},
   "outputs": [
    {
     "data": {
      "text/plain": [
       "38"
      ]
     },
     "execution_count": 19,
     "metadata": {},
     "output_type": "execute_result"
    }
   ],
   "source": [
    "def get_languages(url='https://www.codewars.com/kata/latest/my-languages', ignore={'all', 'my languages'}): \n",
    "    html = requests.get(url).content\n",
    "    soup = BeautifulSoup(html, \"lxml\")\n",
    "    return {e.text.lower() for e in soup.select('#language_filter option')}.difference(ignore) \n",
    "\n",
    "languages = get_languages()\n",
    "len(languages)"
   ]
  },
  {
   "cell_type": "code",
   "execution_count": 20,
   "metadata": {},
   "outputs": [],
   "source": [
    "def get_row(user): \n",
    "    ''' \n",
    "    Crea un diccionario con los datos recopilados que se puede\n",
    "    añadir como fila en nuestro dataframe de pandas\n",
    "    '''\n",
    "    user_json = get_user_api(user)\n",
    "    res = get_all_stats(user)\n",
    "    res.update(get_scores(user_json))\n",
    "    return res\n",
    "\n",
    "def create_row(data, new_user): \n",
    "    row = get_row(new_user)\n",
    "    return data.append(other=row, ignore_index=True)\n",
    "\n",
    "# ivan = get_row('ijcernicharo')\n",
    "# alberto = get_row('albertogcmr')"
   ]
  },
  {
   "cell_type": "markdown",
   "metadata": {},
   "source": [
    "### 2.3 Creación de DataFrame"
   ]
  },
  {
   "cell_type": "code",
   "execution_count": 25,
   "metadata": {},
   "outputs": [
    {
     "data": {
      "text/plain": [
       "3947"
      ]
     },
     "execution_count": 25,
     "metadata": {},
     "output_type": "execute_result"
    }
   ],
   "source": [
    "# Por cada uno de los usuarios recopilados, creamos un registro en df_users\n",
    "total_n = [u for u in total][:]\n",
    "len(total_n)"
   ]
  },
  {
   "cell_type": "code",
   "execution_count": 24,
   "metadata": {},
   "outputs": [],
   "source": [
    "@timeit\n",
    "def create_df(users): \n",
    "    # print(users)\n",
    "    df_res = pd.DataFrame()\n",
    "    errors = []\n",
    "    for i, user in enumerate(users): \n",
    "        try: \n",
    "            print(i, '\\t', user)\n",
    "            df_res = create_row(data=df_res, new_user=user)\n",
    "        except: \n",
    "            errors.append(user)\n",
    "    try: \n",
    "        save_set_users(users=errors, filename='../errors/df-row-error.txt')\n",
    "    except: \n",
    "        print('Error en la escritura del archivo de error')\n",
    "        print(errors)\n",
    "    \n",
    "    return df_res"
   ]
  },
  {
   "cell_type": "code",
   "execution_count": null,
   "metadata": {},
   "outputs": [
    {
     "name": "stdout",
     "output_type": "stream",
     "text": [
      "0 \t mr.tk\n",
      "1 \t Caffeinatedbrew\n",
      "2 \t rscharfer\n",
      "3 \t tommur\n"
     ]
    }
   ],
   "source": [
    "df_users = create_df(total_n)\n",
    "df_users.head()"
   ]
  },
  {
   "cell_type": "code",
   "execution_count": null,
   "metadata": {},
   "outputs": [],
   "source": [
    "df_users = create_row(data=df_users, new_user='ijcernicharo')\n",
    "df_users = create_row(data=df_users, new_user='pablobarrio')\n",
    "df_users.head()"
   ]
  },
  {
   "cell_type": "code",
   "execution_count": null,
   "metadata": {},
   "outputs": [],
   "source": [
    "df_users.shape"
   ]
  },
  {
   "cell_type": "code",
   "execution_count": null,
   "metadata": {},
   "outputs": [],
   "source": [
    "df_users.to_csv('../output/df-173columnas.txt')\n",
    "df_users = pd.read_csv('../output/df-173columnas.txt')"
   ]
  },
  {
   "cell_type": "code",
   "execution_count": null,
   "metadata": {},
   "outputs": [],
   "source": [
    "'linkedin' in df_users.columns"
   ]
  },
  {
   "cell_type": "code",
   "execution_count": null,
   "metadata": {},
   "outputs": [],
   "source": [
    "df_users = create_row(data=df_users, new_user='albertogcmr')\n",
    "df_users.head(7)"
   ]
  },
  {
   "cell_type": "code",
   "execution_count": null,
   "metadata": {},
   "outputs": [],
   "source": [
    "'linkedin' in df_users.columns"
   ]
  },
  {
   "cell_type": "code",
   "execution_count": null,
   "metadata": {},
   "outputs": [],
   "source": [
    "# df_users.to_csv('../output/dataframe.csv')\n",
    "# df = pd.read_csv('../output/dataframe.csv')\n",
    "df.head()"
   ]
  },
  {
   "cell_type": "code",
   "execution_count": null,
   "metadata": {},
   "outputs": [],
   "source": [
    "df.games.value_counts()\n"
   ]
  },
  {
   "cell_type": "markdown",
   "metadata": {},
   "source": [
    "### 2.4 Limpieza de datos\n",
    "\n",
    "Tenemos más de 100 columnas de las que sólo queremos las concernientes a sus datos de programación"
   ]
  },
  {
   "cell_type": "code",
   "execution_count": null,
   "metadata": {},
   "outputs": [],
   "source": [
    "# Nos vamos a quedar con las siguientes columnas\n",
    "get_languages()\n",
    "allies, clan, comments, followers, following, github, honor, last seen, \n",
    "leaderboard position # eliminar el #\n",
    "member since, total completed kata, total languages trained, translations, username, avg. satisfaction rating, \n",
    "contributed kata, created, data structures, data types, fundamentals, graphs, kata approvals, \n",
    "total collected, total completions, total stars, skills, linkedin\n"
   ]
  },
  {
   "cell_type": "code",
   "execution_count": null,
   "metadata": {},
   "outputs": [],
   "source": []
  },
  {
   "cell_type": "code",
   "execution_count": null,
   "metadata": {},
   "outputs": [],
   "source": []
  },
  {
   "cell_type": "markdown",
   "metadata": {},
   "source": [
    "## Fase 3: Persistencia de datos"
   ]
  },
  {
   "cell_type": "code",
   "execution_count": null,
   "metadata": {},
   "outputs": [],
   "source": [
    "Guarda"
   ]
  }
 ],
 "metadata": {
  "kernelspec": {
   "display_name": "Python 3",
   "language": "python",
   "name": "python3"
  },
  "language_info": {
   "codemirror_mode": {
    "name": "ipython",
    "version": 3
   },
   "file_extension": ".py",
   "mimetype": "text/x-python",
   "name": "python",
   "nbconvert_exporter": "python",
   "pygments_lexer": "ipython3",
   "version": "3.6.7"
  }
 },
 "nbformat": 4,
 "nbformat_minor": 2
}
