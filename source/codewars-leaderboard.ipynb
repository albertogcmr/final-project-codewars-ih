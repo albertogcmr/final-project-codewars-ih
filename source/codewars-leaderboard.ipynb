{
 "cells": [
  {
   "cell_type": "markdown",
   "metadata": {},
   "source": [
    "# Proyecto Final IH: Recomendador de Codewars|Github"
   ]
  },
  {
   "cell_type": "code",
   "execution_count": 1,
   "metadata": {},
   "outputs": [],
   "source": [
    "# https://www.codewars.com/users/leaderboard"
   ]
  },
  {
   "cell_type": "code",
   "execution_count": 3,
   "metadata": {},
   "outputs": [],
   "source": [
    "# imports \n",
    "\n",
    "import requests\n",
    "from bs4 import BeautifulSoup"
   ]
  },
  {
   "cell_type": "markdown",
   "metadata": {},
   "source": [
    "## Leaderboard\n",
    "Top 500 de codewars"
   ]
  },
  {
   "cell_type": "code",
   "execution_count": 4,
   "metadata": {},
   "outputs": [],
   "source": [
    "# URL\n",
    "\n",
    "url = 'https://www.codewars.com/users/leaderboard'\n",
    "html = requests.get(url).content\n",
    "soup = BeautifulSoup(html, \"lxml\")"
   ]
  },
  {
   "cell_type": "code",
   "execution_count": 10,
   "metadata": {},
   "outputs": [],
   "source": [
    "# usuarios de leaderboard\n",
    "\n",
    "leaderboard = {e.text for e in soup.select('tr a')}\n",
    "users = '\\n'.join(leaderboard)\n",
    "\n",
    "# አወል እሸቱ"
   ]
  },
  {
   "cell_type": "code",
   "execution_count": 11,
   "metadata": {
    "scrolled": true
   },
   "outputs": [
    {
     "data": {
      "text/plain": [
       "'\\nres = {}\\nfor u in leaderboard: \\n    res[u] = leaderboard.count(u)\\nres\\n'"
      ]
     },
     "execution_count": 11,
     "metadata": {},
     "output_type": "execute_result"
    }
   ],
   "source": [
    "'''\n",
    "res = {}\n",
    "for u in leaderboard: \n",
    "    res[u] = leaderboard.count(u)\n",
    "res\n",
    "'''"
   ]
  },
  {
   "cell_type": "code",
   "execution_count": 12,
   "metadata": {},
   "outputs": [],
   "source": [
    "# Salvamos los nombres en un documento\n",
    "\n",
    "with open('../output/500-leaders.txt', 'w') as f: \n",
    "    f.write(users) "
   ]
  },
  {
   "cell_type": "code",
   "execution_count": 28,
   "metadata": {},
   "outputs": [
    {
     "data": {
      "text/plain": [
       "{'Girgetto',\n",
       " 'J4CODE',\n",
       " 'Raulvv',\n",
       " 'Tommytrg',\n",
       " 'VictorIrix',\n",
       " 'VivianSolide',\n",
       " 'bel',\n",
       " 'boyander',\n",
       " 'epangar',\n",
       " 'evapanizo',\n",
       " 'josh35767',\n",
       " 'mc100s',\n",
       " 'papuarza',\n",
       " 'silvio.galli',\n",
       " 'xFloki',\n",
       " 'yacineh'}"
      ]
     },
     "execution_count": 28,
     "metadata": {},
     "output_type": "execute_result"
    }
   ],
   "source": [
    "# get users in clan\n",
    "\n",
    "# https://www.codewars.com/users/albertogcmr/following\n",
    "# https://www.codewars.com/users/albertogcmr/followers\n",
    "# https://www.codewars.com/users/albertogcmr/allies\n",
    "\n",
    "def get_social(user): \n",
    "    res = set()\n",
    "    for link in ['following', 'followers', 'allies']: \n",
    "        url = 'https://www.codewars.com/users/{}/{}'.format(user, link)\n",
    "        html = requests.get(url).content\n",
    "\n",
    "        soup = BeautifulSoup(html, \"lxml\")\n",
    "        res = res.union({e.text for e in soup.select('table a')})\n",
    "    return res\n",
    "get_social('albertogcmr')"
   ]
  },
  {
   "cell_type": "code",
   "execution_count": 25,
   "metadata": {},
   "outputs": [
    {
     "data": {
      "text/plain": [
       "['silvio.galli',\n",
       " 'epangar',\n",
       " 'bel',\n",
       " 'VictorIrix',\n",
       " 'Girgetto',\n",
       " 'papuarza',\n",
       " 'mc100s',\n",
       " 'VivianSolide',\n",
       " 'xFloki',\n",
       " 'yacineh',\n",
       " 'Tommytrg',\n",
       " 'J4CODE',\n",
       " 'Raulvv',\n",
       " 'boyander',\n",
       " 'josh35767']"
      ]
     },
     "execution_count": 25,
     "metadata": {},
     "output_type": "execute_result"
    }
   ],
   "source": [
    "following = [e.text for e in soup.select('table a')]\n",
    "\n",
    "users = '\\n'.join(following)\n",
    "# users\n",
    "following"
   ]
  },
  {
   "cell_type": "code",
   "execution_count": null,
   "metadata": {},
   "outputs": [],
   "source": []
  }
 ],
 "metadata": {
  "kernelspec": {
   "display_name": "Python 3",
   "language": "python",
   "name": "python3"
  },
  "language_info": {
   "codemirror_mode": {
    "name": "ipython",
    "version": 3
   },
   "file_extension": ".py",
   "mimetype": "text/x-python",
   "name": "python",
   "nbconvert_exporter": "python",
   "pygments_lexer": "ipython3",
   "version": "3.6.7"
  }
 },
 "nbformat": 4,
 "nbformat_minor": 2
}
