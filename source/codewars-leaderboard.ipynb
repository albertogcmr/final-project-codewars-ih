{
 "cells": [
  {
   "cell_type": "markdown",
   "metadata": {},
   "source": [
    "# Proyecto Final IH: Recomendador de Codewars|Github"
   ]
  },
  {
   "cell_type": "code",
   "execution_count": 1,
   "metadata": {},
   "outputs": [],
   "source": [
    "# https://www.codewars.com/users/leaderboard"
   ]
  },
  {
   "cell_type": "code",
   "execution_count": 84,
   "metadata": {},
   "outputs": [],
   "source": [
    "# imports \n",
    "\n",
    "import requests\n",
    "from bs4 import BeautifulSoup\n"
   ]
  },
  {
   "cell_type": "markdown",
   "metadata": {},
   "source": [
    "## Leaderboard\n",
    "Top 500 de codewars"
   ]
  },
  {
   "cell_type": "code",
   "execution_count": 85,
   "metadata": {},
   "outputs": [],
   "source": [
    "# URL\n",
    "\n",
    "url = 'https://www.codewars.com/users/leaderboard'\n",
    "html = requests.get(url).content\n",
    "soup = BeautifulSoup(html, \"lxml\")"
   ]
  },
  {
   "cell_type": "code",
   "execution_count": 86,
   "metadata": {},
   "outputs": [],
   "source": [
    "# usuarios de leaderboard\n",
    "\n",
    "leaderboard = {e.text for e in soup.select('tr a')}\n",
    "users = '\\n'.join(leaderboard)\n"
   ]
  },
  {
   "cell_type": "code",
   "execution_count": 87,
   "metadata": {},
   "outputs": [],
   "source": [
    "# Salvamos los nombres en un documento\n",
    "\n",
    "with open('../output/500-leaders.txt', 'w') as f: \n",
    "    f.write(users) "
   ]
  },
  {
   "cell_type": "markdown",
   "metadata": {},
   "source": [
    "## Get Social"
   ]
  },
  {
   "cell_type": "code",
   "execution_count": 88,
   "metadata": {},
   "outputs": [
    {
     "data": {
      "text/plain": [
       "{'Girgetto',\n",
       " 'J4CODE',\n",
       " 'Raulvv',\n",
       " 'Tommytrg',\n",
       " 'VictorIrix',\n",
       " 'VivianSolide',\n",
       " 'bel',\n",
       " 'boyander',\n",
       " 'epangar',\n",
       " 'evapanizo',\n",
       " 'josh35767',\n",
       " 'mc100s',\n",
       " 'papuarza',\n",
       " 'silvio.galli',\n",
       " 'xFloki',\n",
       " 'yacineh'}"
      ]
     },
     "execution_count": 88,
     "metadata": {},
     "output_type": "execute_result"
    }
   ],
   "source": [
    "# get users in clan\n",
    "\n",
    "# https://www.codewars.com/users/albertogcmr/following\n",
    "# https://www.codewars.com/users/albertogcmr/followers\n",
    "# https://www.codewars.com/users/albertogcmr/allies\n",
    "\n",
    "def get_social(user): \n",
    "    res = set()\n",
    "    for link in ['following', 'followers', 'allies']: \n",
    "        url = 'https://www.codewars.com/users/{}/{}'.format(user, link)\n",
    "        html = requests.get(url).content\n",
    "\n",
    "        soup = BeautifulSoup(html, \"lxml\")\n",
    "        res = res.union({e.text for e in soup.select('table a')})\n",
    "    return res\n",
    "get_social('albertogcmr')"
   ]
  },
  {
   "cell_type": "markdown",
   "metadata": {},
   "source": [
    "## Get stats from user"
   ]
  },
  {
   "cell_type": "code",
   "execution_count": 136,
   "metadata": {},
   "outputs": [],
   "source": [
    "res = \"\"\n",
    "url = 'https://www.codewars.com/users/{}'.format('albertogcmr')\n",
    "html = requests.get(url).content\n",
    "soup = BeautifulSoup(html, \"lxml\")"
   ]
  },
  {
   "cell_type": "code",
   "execution_count": 128,
   "metadata": {},
   "outputs": [
    {
     "data": {
      "text/plain": [
       "'Dec 2018'"
      ]
     },
     "execution_count": 128,
     "metadata": {},
     "output_type": "execute_result"
    }
   ],
   "source": [
    "# member since\n",
    "\n",
    "member_since = soup.select('.stat-box div')[2].text\n",
    "member_since = member_since.split(':')[-1]\n",
    "member_since"
   ]
  },
  {
   "cell_type": "code",
   "execution_count": 161,
   "metadata": {},
   "outputs": [
    {
     "data": {
      "text/plain": [
       "{'Name': 'Alberto García cobo',\n",
       " 'Clan': 'Ironhack',\n",
       " 'Skills': 'java, c, python, jquery, javascript, crm, erp, itil',\n",
       " 'Member Since': 'Oct 2018',\n",
       " 'Last Seen': 'Dec 2018',\n",
       " 'github': 'https://github.com/albertogcmr',\n",
       " 'linkedin': 'https://www.linkedin.com/in/albertogarciacobo/',\n",
       " 'Following': '592',\n",
       " 'Followers': '591',\n",
       " 'Allies': '591',\n",
       " 'Rank': '4 kyu',\n",
       " 'Honor': '727',\n",
       " 'Leaderboard Position': '#12,881',\n",
       " 'Honor Percentile': '98th',\n",
       " 'Total Completed Kata': '88',\n",
       " 'Total Languages Trained': '3',\n",
       " 'Highest Trained': 'Python (4 kyu)',\n",
       " 'Most Recent': 'Python',\n",
       " 'Comments': '0 (0 replies)',\n",
       " 'Collections': '0',\n",
       " 'Kumite': '0',\n",
       " 'Translations': '0 (0 approved)'}"
      ]
     },
     "execution_count": 161,
     "metadata": {},
     "output_type": "execute_result"
    }
   ],
   "source": [
    "x = {}\n",
    "for s in soup.select('.stat-box div'): \n",
    "    if s.text.split(':')[0] != 'Profiles': \n",
    "        x[s.text.split(':')[0]] = s.text.split(':')[1]\n",
    "    else: \n",
    "        try: \n",
    "            for e in s.find_all('a', href=True): \n",
    "                if 'github' in e['href']: \n",
    "                    x['github'] = e['href']\n",
    "                if 'linkedin' in e['href']: \n",
    "                    x['linkedin'] = e['href']\n",
    "        except: \n",
    "            x['github'] = ''\n",
    "            x['linkedin'] = ''\n",
    "\n",
    "\n",
    "x\n"
   ]
  },
  {
   "cell_type": "code",
   "execution_count": 129,
   "metadata": {},
   "outputs": [
    {
     "data": {
      "text/plain": [
       "''"
      ]
     },
     "execution_count": 129,
     "metadata": {},
     "output_type": "execute_result"
    }
   ],
   "source": [
    "# last seen\n",
    "\n",
    "last_seen = soup.select('.stat-box div')[4].text\n",
    "last_seen = last_seen.split(':')[-1]\n",
    "last_seen"
   ]
  },
  {
   "cell_type": "code",
   "execution_count": 122,
   "metadata": {},
   "outputs": [
    {
     "data": {
      "text/plain": [
       "'https://github.com/albertogcmr'"
      ]
     },
     "execution_count": 122,
     "metadata": {},
     "output_type": "execute_result"
    }
   ],
   "source": [
    "# github\n",
    "\n",
    "github = soup.select('.stat-box div')[5].find_all('a', href=True)[0]['href']\n",
    "github"
   ]
  },
  {
   "cell_type": "code",
   "execution_count": 124,
   "metadata": {},
   "outputs": [
    {
     "data": {
      "text/plain": [
       "'https://www.linkedin.com/in/albertogarciacobo/'"
      ]
     },
     "execution_count": 124,
     "metadata": {},
     "output_type": "execute_result"
    }
   ],
   "source": [
    "# linkedin\n",
    "\n",
    "github = soup.select('.stat-box div')[5].find_all('a', href=True)[1]['href']\n",
    "github"
   ]
  },
  {
   "cell_type": "code",
   "execution_count": null,
   "metadata": {},
   "outputs": [],
   "source": []
  }
 ],
 "metadata": {
  "kernelspec": {
   "display_name": "Python 3",
   "language": "python",
   "name": "python3"
  },
  "language_info": {
   "codemirror_mode": {
    "name": "ipython",
    "version": 3
   },
   "file_extension": ".py",
   "mimetype": "text/x-python",
   "name": "python",
   "nbconvert_exporter": "python",
   "pygments_lexer": "ipython3",
   "version": "3.6.7"
  }
 },
 "nbformat": 4,
 "nbformat_minor": 2
}
